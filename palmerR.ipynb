{
 "cells": [
  {
   "cell_type": "code",
   "execution_count": 1,
   "metadata": {
    "vscode": {
     "languageId": "r"
    }
   },
   "outputs": [
    {
     "name": "stderr",
     "output_type": "stream",
     "text": [
      "Installing package into 'C:/Users/keith/AppData/Local/R/win-library/4.4'\n",
      "(as 'lib' is unspecified)\n",
      "\n"
     ]
    },
    {
     "name": "stdout",
     "output_type": "stream",
     "text": [
      "package 'palmerpenguins' successfully unpacked and MD5 sums checked\n",
      "\n",
      "The downloaded binary packages are in\n",
      "\tC:\\Users\\keith\\AppData\\Local\\Temp\\RtmpGwMUF8\\downloaded_packages\n"
     ]
    }
   ],
   "source": [
    "install.packages(\"palmerpenguins\")\n",
    "library(palmerpenguins)"
   ]
  },
  {
   "cell_type": "code",
   "execution_count": 2,
   "metadata": {
    "vscode": {
     "languageId": "r"
    }
   },
   "outputs": [
    {
     "data": {
      "text/html": [
       "<table class=\"dataframe\">\n",
       "<caption>A tibble: 6 × 8</caption>\n",
       "<thead>\n",
       "\t<tr><th scope=col>species</th><th scope=col>island</th><th scope=col>bill_length_mm</th><th scope=col>bill_depth_mm</th><th scope=col>flipper_length_mm</th><th scope=col>body_mass_g</th><th scope=col>sex</th><th scope=col>year</th></tr>\n",
       "\t<tr><th scope=col>&lt;fct&gt;</th><th scope=col>&lt;fct&gt;</th><th scope=col>&lt;dbl&gt;</th><th scope=col>&lt;dbl&gt;</th><th scope=col>&lt;int&gt;</th><th scope=col>&lt;int&gt;</th><th scope=col>&lt;fct&gt;</th><th scope=col>&lt;int&gt;</th></tr>\n",
       "</thead>\n",
       "<tbody>\n",
       "\t<tr><td>Adelie</td><td>Torgersen</td><td>39.1</td><td>18.7</td><td>181</td><td>3750</td><td>male  </td><td>2007</td></tr>\n",
       "\t<tr><td>Adelie</td><td>Torgersen</td><td>39.5</td><td>17.4</td><td>186</td><td>3800</td><td>female</td><td>2007</td></tr>\n",
       "\t<tr><td>Adelie</td><td>Torgersen</td><td>40.3</td><td>18.0</td><td>195</td><td>3250</td><td>female</td><td>2007</td></tr>\n",
       "\t<tr><td>Adelie</td><td>Torgersen</td><td>  NA</td><td>  NA</td><td> NA</td><td>  NA</td><td>NA    </td><td>2007</td></tr>\n",
       "\t<tr><td>Adelie</td><td>Torgersen</td><td>36.7</td><td>19.3</td><td>193</td><td>3450</td><td>female</td><td>2007</td></tr>\n",
       "\t<tr><td>Adelie</td><td>Torgersen</td><td>39.3</td><td>20.6</td><td>190</td><td>3650</td><td>male  </td><td>2007</td></tr>\n",
       "</tbody>\n",
       "</table>\n"
      ],
      "text/latex": [
       "A tibble: 6 × 8\n",
       "\\begin{tabular}{llllllll}\n",
       " species & island & bill\\_length\\_mm & bill\\_depth\\_mm & flipper\\_length\\_mm & body\\_mass\\_g & sex & year\\\\\n",
       " <fct> & <fct> & <dbl> & <dbl> & <int> & <int> & <fct> & <int>\\\\\n",
       "\\hline\n",
       "\t Adelie & Torgersen & 39.1 & 18.7 & 181 & 3750 & male   & 2007\\\\\n",
       "\t Adelie & Torgersen & 39.5 & 17.4 & 186 & 3800 & female & 2007\\\\\n",
       "\t Adelie & Torgersen & 40.3 & 18.0 & 195 & 3250 & female & 2007\\\\\n",
       "\t Adelie & Torgersen &   NA &   NA &  NA &   NA & NA     & 2007\\\\\n",
       "\t Adelie & Torgersen & 36.7 & 19.3 & 193 & 3450 & female & 2007\\\\\n",
       "\t Adelie & Torgersen & 39.3 & 20.6 & 190 & 3650 & male   & 2007\\\\\n",
       "\\end{tabular}\n"
      ],
      "text/markdown": [
       "\n",
       "A tibble: 6 × 8\n",
       "\n",
       "| species &lt;fct&gt; | island &lt;fct&gt; | bill_length_mm &lt;dbl&gt; | bill_depth_mm &lt;dbl&gt; | flipper_length_mm &lt;int&gt; | body_mass_g &lt;int&gt; | sex &lt;fct&gt; | year &lt;int&gt; |\n",
       "|---|---|---|---|---|---|---|---|\n",
       "| Adelie | Torgersen | 39.1 | 18.7 | 181 | 3750 | male   | 2007 |\n",
       "| Adelie | Torgersen | 39.5 | 17.4 | 186 | 3800 | female | 2007 |\n",
       "| Adelie | Torgersen | 40.3 | 18.0 | 195 | 3250 | female | 2007 |\n",
       "| Adelie | Torgersen |   NA |   NA |  NA |   NA | NA     | 2007 |\n",
       "| Adelie | Torgersen | 36.7 | 19.3 | 193 | 3450 | female | 2007 |\n",
       "| Adelie | Torgersen | 39.3 | 20.6 | 190 | 3650 | male   | 2007 |\n",
       "\n"
      ],
      "text/plain": [
       "  species island    bill_length_mm bill_depth_mm flipper_length_mm body_mass_g\n",
       "1 Adelie  Torgersen 39.1           18.7          181               3750       \n",
       "2 Adelie  Torgersen 39.5           17.4          186               3800       \n",
       "3 Adelie  Torgersen 40.3           18.0          195               3250       \n",
       "4 Adelie  Torgersen   NA             NA           NA                 NA       \n",
       "5 Adelie  Torgersen 36.7           19.3          193               3450       \n",
       "6 Adelie  Torgersen 39.3           20.6          190               3650       \n",
       "  sex    year\n",
       "1 male   2007\n",
       "2 female 2007\n",
       "3 female 2007\n",
       "4 NA     2007\n",
       "5 female 2007\n",
       "6 male   2007"
      ]
     },
     "metadata": {},
     "output_type": "display_data"
    }
   ],
   "source": [
    "head(penguins)"
   ]
  },
  {
   "cell_type": "code",
   "execution_count": 3,
   "metadata": {
    "vscode": {
     "languageId": "r"
    }
   },
   "outputs": [
    {
     "data": {
      "text/html": [
       "<table class=\"dataframe\">\n",
       "<caption>A tibble: 10 × 8</caption>\n",
       "<thead>\n",
       "\t<tr><th scope=col>species</th><th scope=col>island</th><th scope=col>bill_length_mm</th><th scope=col>bill_depth_mm</th><th scope=col>flipper_length_mm</th><th scope=col>body_mass_g</th><th scope=col>sex</th><th scope=col>year</th></tr>\n",
       "\t<tr><th scope=col>&lt;fct&gt;</th><th scope=col>&lt;fct&gt;</th><th scope=col>&lt;dbl&gt;</th><th scope=col>&lt;dbl&gt;</th><th scope=col>&lt;int&gt;</th><th scope=col>&lt;int&gt;</th><th scope=col>&lt;fct&gt;</th><th scope=col>&lt;int&gt;</th></tr>\n",
       "</thead>\n",
       "<tbody>\n",
       "\t<tr><td>Adelie</td><td>Torgersen</td><td>39.1</td><td>18.7</td><td>181</td><td>3750</td><td>male  </td><td>2007</td></tr>\n",
       "\t<tr><td>Adelie</td><td>Torgersen</td><td>39.5</td><td>17.4</td><td>186</td><td>3800</td><td>female</td><td>2007</td></tr>\n",
       "\t<tr><td>Adelie</td><td>Torgersen</td><td>40.3</td><td>18.0</td><td>195</td><td>3250</td><td>female</td><td>2007</td></tr>\n",
       "\t<tr><td>Adelie</td><td>Torgersen</td><td>  NA</td><td>  NA</td><td> NA</td><td>  NA</td><td>NA    </td><td>2007</td></tr>\n",
       "\t<tr><td>Adelie</td><td>Torgersen</td><td>36.7</td><td>19.3</td><td>193</td><td>3450</td><td>female</td><td>2007</td></tr>\n",
       "\t<tr><td>Adelie</td><td>Torgersen</td><td>39.3</td><td>20.6</td><td>190</td><td>3650</td><td>male  </td><td>2007</td></tr>\n",
       "\t<tr><td>Adelie</td><td>Torgersen</td><td>38.9</td><td>17.8</td><td>181</td><td>3625</td><td>female</td><td>2007</td></tr>\n",
       "\t<tr><td>Adelie</td><td>Torgersen</td><td>39.2</td><td>19.6</td><td>195</td><td>4675</td><td>male  </td><td>2007</td></tr>\n",
       "\t<tr><td>Adelie</td><td>Torgersen</td><td>34.1</td><td>18.1</td><td>193</td><td>3475</td><td>NA    </td><td>2007</td></tr>\n",
       "\t<tr><td>Adelie</td><td>Torgersen</td><td>42.0</td><td>20.2</td><td>190</td><td>4250</td><td>NA    </td><td>2007</td></tr>\n",
       "</tbody>\n",
       "</table>\n"
      ],
      "text/latex": [
       "A tibble: 10 × 8\n",
       "\\begin{tabular}{llllllll}\n",
       " species & island & bill\\_length\\_mm & bill\\_depth\\_mm & flipper\\_length\\_mm & body\\_mass\\_g & sex & year\\\\\n",
       " <fct> & <fct> & <dbl> & <dbl> & <int> & <int> & <fct> & <int>\\\\\n",
       "\\hline\n",
       "\t Adelie & Torgersen & 39.1 & 18.7 & 181 & 3750 & male   & 2007\\\\\n",
       "\t Adelie & Torgersen & 39.5 & 17.4 & 186 & 3800 & female & 2007\\\\\n",
       "\t Adelie & Torgersen & 40.3 & 18.0 & 195 & 3250 & female & 2007\\\\\n",
       "\t Adelie & Torgersen &   NA &   NA &  NA &   NA & NA     & 2007\\\\\n",
       "\t Adelie & Torgersen & 36.7 & 19.3 & 193 & 3450 & female & 2007\\\\\n",
       "\t Adelie & Torgersen & 39.3 & 20.6 & 190 & 3650 & male   & 2007\\\\\n",
       "\t Adelie & Torgersen & 38.9 & 17.8 & 181 & 3625 & female & 2007\\\\\n",
       "\t Adelie & Torgersen & 39.2 & 19.6 & 195 & 4675 & male   & 2007\\\\\n",
       "\t Adelie & Torgersen & 34.1 & 18.1 & 193 & 3475 & NA     & 2007\\\\\n",
       "\t Adelie & Torgersen & 42.0 & 20.2 & 190 & 4250 & NA     & 2007\\\\\n",
       "\\end{tabular}\n"
      ],
      "text/markdown": [
       "\n",
       "A tibble: 10 × 8\n",
       "\n",
       "| species &lt;fct&gt; | island &lt;fct&gt; | bill_length_mm &lt;dbl&gt; | bill_depth_mm &lt;dbl&gt; | flipper_length_mm &lt;int&gt; | body_mass_g &lt;int&gt; | sex &lt;fct&gt; | year &lt;int&gt; |\n",
       "|---|---|---|---|---|---|---|---|\n",
       "| Adelie | Torgersen | 39.1 | 18.7 | 181 | 3750 | male   | 2007 |\n",
       "| Adelie | Torgersen | 39.5 | 17.4 | 186 | 3800 | female | 2007 |\n",
       "| Adelie | Torgersen | 40.3 | 18.0 | 195 | 3250 | female | 2007 |\n",
       "| Adelie | Torgersen |   NA |   NA |  NA |   NA | NA     | 2007 |\n",
       "| Adelie | Torgersen | 36.7 | 19.3 | 193 | 3450 | female | 2007 |\n",
       "| Adelie | Torgersen | 39.3 | 20.6 | 190 | 3650 | male   | 2007 |\n",
       "| Adelie | Torgersen | 38.9 | 17.8 | 181 | 3625 | female | 2007 |\n",
       "| Adelie | Torgersen | 39.2 | 19.6 | 195 | 4675 | male   | 2007 |\n",
       "| Adelie | Torgersen | 34.1 | 18.1 | 193 | 3475 | NA     | 2007 |\n",
       "| Adelie | Torgersen | 42.0 | 20.2 | 190 | 4250 | NA     | 2007 |\n",
       "\n"
      ],
      "text/plain": [
       "   species island    bill_length_mm bill_depth_mm flipper_length_mm body_mass_g\n",
       "1  Adelie  Torgersen 39.1           18.7          181               3750       \n",
       "2  Adelie  Torgersen 39.5           17.4          186               3800       \n",
       "3  Adelie  Torgersen 40.3           18.0          195               3250       \n",
       "4  Adelie  Torgersen   NA             NA           NA                 NA       \n",
       "5  Adelie  Torgersen 36.7           19.3          193               3450       \n",
       "6  Adelie  Torgersen 39.3           20.6          190               3650       \n",
       "7  Adelie  Torgersen 38.9           17.8          181               3625       \n",
       "8  Adelie  Torgersen 39.2           19.6          195               4675       \n",
       "9  Adelie  Torgersen 34.1           18.1          193               3475       \n",
       "10 Adelie  Torgersen 42.0           20.2          190               4250       \n",
       "   sex    year\n",
       "1  male   2007\n",
       "2  female 2007\n",
       "3  female 2007\n",
       "4  NA     2007\n",
       "5  female 2007\n",
       "6  male   2007\n",
       "7  female 2007\n",
       "8  male   2007\n",
       "9  NA     2007\n",
       "10 NA     2007"
      ]
     },
     "metadata": {},
     "output_type": "display_data"
    }
   ],
   "source": [
    "head(penguins, n=10)"
   ]
  },
  {
   "cell_type": "code",
   "execution_count": 4,
   "metadata": {
    "vscode": {
     "languageId": "r"
    }
   },
   "outputs": [
    {
     "data": {
      "text/html": [
       "<style>\n",
       ".list-inline {list-style: none; margin:0; padding: 0}\n",
       ".list-inline>li {display: inline-block}\n",
       ".list-inline>li:not(:last-child)::after {content: \"\\00b7\"; padding: 0 .5ex}\n",
       "</style>\n",
       "<ol class=list-inline><li>344</li><li>8</li></ol>\n"
      ],
      "text/latex": [
       "\\begin{enumerate*}\n",
       "\\item 344\n",
       "\\item 8\n",
       "\\end{enumerate*}\n"
      ],
      "text/markdown": [
       "1. 344\n",
       "2. 8\n",
       "\n",
       "\n"
      ],
      "text/plain": [
       "[1] 344   8"
      ]
     },
     "metadata": {},
     "output_type": "display_data"
    }
   ],
   "source": [
    "dim(penguins)"
   ]
  },
  {
   "cell_type": "markdown",
   "metadata": {},
   "source": [
    "Here we can see that our dataset has 344 data points and 8 features, namely- species, island, bill_length_mm, bill_depth_mm, flipper_length_mm, body_mass_g, sex, and year. Also, we can see that the columns- species, island, and sex have the data type factor (which means categorical data), the columns- bill_length_mm, and bill_depth_mm have the data type double (which means numbers with decimals), and the columns - flipper_length_mm, body_mass_g, and year have the data type int (which means numbers without a decimal point)."
   ]
  },
  {
   "cell_type": "code",
   "execution_count": 5,
   "metadata": {
    "vscode": {
     "languageId": "r"
    }
   },
   "outputs": [
    {
     "name": "stdout",
     "output_type": "stream",
     "text": [
      "tibble [344 × 8] (S3: tbl_df/tbl/data.frame)\n",
      " $ species          : Factor w/ 3 levels \"Adelie\",\"Chinstrap\",..: 1 1 1 1 1 1 1 1 1 1 ...\n",
      " $ island           : Factor w/ 3 levels \"Biscoe\",\"Dream\",..: 3 3 3 3 3 3 3 3 3 3 ...\n",
      " $ bill_length_mm   : num [1:344] 39.1 39.5 40.3 NA 36.7 39.3 38.9 39.2 34.1 42 ...\n",
      " $ bill_depth_mm    : num [1:344] 18.7 17.4 18 NA 19.3 20.6 17.8 19.6 18.1 20.2 ...\n",
      " $ flipper_length_mm: int [1:344] 181 186 195 NA 193 190 181 195 193 190 ...\n",
      " $ body_mass_g      : int [1:344] 3750 3800 3250 NA 3450 3650 3625 4675 3475 4250 ...\n",
      " $ sex              : Factor w/ 2 levels \"female\",\"male\": 2 1 1 NA 1 2 1 2 NA NA ...\n",
      " $ year             : int [1:344] 2007 2007 2007 2007 2007 2007 2007 2007 2007 2007 ...\n"
     ]
    }
   ],
   "source": [
    "str(penguins)"
   ]
  },
  {
   "cell_type": "markdown",
   "metadata": {},
   "source": [
    "Using the str() function, we get to know the dimensions of the dataset, the data type of the columns, and the first few values as well.\n",
    "\n",
    "Here, we also get deeper insights, such as the different 'levels' or 'classes' or 'categories' in the columns with the factor data type, for example- the column sex has two levels- female and male, the column species has three levels- Adelie, Chinstrap and Gentoo"
   ]
  },
  {
   "cell_type": "code",
   "execution_count": 6,
   "metadata": {
    "vscode": {
     "languageId": "r"
    }
   },
   "outputs": [
    {
     "name": "stderr",
     "output_type": "stream",
     "text": [
      "Installing package into 'C:/Users/keith/AppData/Local/R/win-library/4.4'\n",
      "(as 'lib' is unspecified)\n",
      "\n",
      "also installing the dependencies 'bit', 'rematch', 'bit64', 'blob', 'DBI', 'gargle', 'cellranger', 'ids', 'vroom', 'progress', 'selectr', 'broom', 'conflicted', 'dbplyr', 'dtplyr', 'forcats', 'googledrive', 'googlesheets4', 'haven', 'hms', 'modelr', 'readr', 'readxl', 'reprex', 'rvest'\n",
      "\n",
      "\n"
     ]
    },
    {
     "name": "stdout",
     "output_type": "stream",
     "text": [
      "package 'bit' successfully unpacked and MD5 sums checked\n",
      "package 'rematch' successfully unpacked and MD5 sums checked\n",
      "package 'bit64' successfully unpacked and MD5 sums checked\n",
      "package 'blob' successfully unpacked and MD5 sums checked\n",
      "package 'DBI' successfully unpacked and MD5 sums checked\n",
      "package 'gargle' successfully unpacked and MD5 sums checked\n",
      "package 'cellranger' successfully unpacked and MD5 sums checked\n",
      "package 'ids' successfully unpacked and MD5 sums checked\n",
      "package 'vroom' successfully unpacked and MD5 sums checked\n",
      "package 'progress' successfully unpacked and MD5 sums checked\n",
      "package 'selectr' successfully unpacked and MD5 sums checked\n",
      "package 'broom' successfully unpacked and MD5 sums checked\n",
      "package 'conflicted' successfully unpacked and MD5 sums checked\n",
      "package 'dbplyr' successfully unpacked and MD5 sums checked\n",
      "package 'dtplyr' successfully unpacked and MD5 sums checked\n",
      "package 'forcats' successfully unpacked and MD5 sums checked\n",
      "package 'googledrive' successfully unpacked and MD5 sums checked\n",
      "package 'googlesheets4' successfully unpacked and MD5 sums checked\n",
      "package 'haven' successfully unpacked and MD5 sums checked\n",
      "package 'hms' successfully unpacked and MD5 sums checked\n",
      "package 'modelr' successfully unpacked and MD5 sums checked\n",
      "package 'readr' successfully unpacked and MD5 sums checked\n",
      "package 'readxl' successfully unpacked and MD5 sums checked\n",
      "package 'reprex' successfully unpacked and MD5 sums checked\n",
      "package 'rvest' successfully unpacked and MD5 sums checked\n",
      "package 'tidyverse' successfully unpacked and MD5 sums checked\n",
      "\n",
      "The downloaded binary packages are in\n",
      "\tC:\\Users\\keith\\AppData\\Local\\Temp\\RtmpGwMUF8\\downloaded_packages\n"
     ]
    },
    {
     "name": "stderr",
     "output_type": "stream",
     "text": [
      "── \u001b[1mAttaching core tidyverse packages\u001b[22m ──────────────────────── tidyverse 2.0.0 ──\n",
      "\u001b[32m✔\u001b[39m \u001b[34mdplyr    \u001b[39m 1.1.4     \u001b[32m✔\u001b[39m \u001b[34mreadr    \u001b[39m 2.1.5\n",
      "\u001b[32m✔\u001b[39m \u001b[34mforcats  \u001b[39m 1.0.0     \u001b[32m✔\u001b[39m \u001b[34mstringr  \u001b[39m 1.5.1\n",
      "\u001b[32m✔\u001b[39m \u001b[34mggplot2  \u001b[39m 3.5.1     \u001b[32m✔\u001b[39m \u001b[34mtibble   \u001b[39m 3.2.1\n",
      "\u001b[32m✔\u001b[39m \u001b[34mlubridate\u001b[39m 1.9.3     \u001b[32m✔\u001b[39m \u001b[34mtidyr    \u001b[39m 1.3.1\n",
      "\u001b[32m✔\u001b[39m \u001b[34mpurrr    \u001b[39m 1.0.2     \n",
      "── \u001b[1mConflicts\u001b[22m ────────────────────────────────────────── tidyverse_conflicts() ──\n",
      "\u001b[31m✖\u001b[39m \u001b[34mdplyr\u001b[39m::\u001b[32mfilter()\u001b[39m masks \u001b[34mstats\u001b[39m::filter()\n",
      "\u001b[31m✖\u001b[39m \u001b[34mdplyr\u001b[39m::\u001b[32mlag()\u001b[39m    masks \u001b[34mstats\u001b[39m::lag()\n",
      "\u001b[36mℹ\u001b[39m Use the conflicted package (\u001b[3m\u001b[34m<http://conflicted.r-lib.org/>\u001b[39m\u001b[23m) to force all conflicts to become errors\n"
     ]
    }
   ],
   "source": [
    "install.packages('tidyverse')\n",
    "library(tidyverse)"
   ]
  },
  {
   "cell_type": "code",
   "execution_count": 9,
   "metadata": {
    "vscode": {
     "languageId": "r"
    }
   },
   "outputs": [
    {
     "data": {
      "text/html": [
       "<table class=\"dataframe\">\n",
       "<caption>A tibble: 3 × 2</caption>\n",
       "<thead>\n",
       "\t<tr><th scope=col>species</th><th scope=col>n</th></tr>\n",
       "\t<tr><th scope=col>&lt;fct&gt;</th><th scope=col>&lt;int&gt;</th></tr>\n",
       "</thead>\n",
       "<tbody>\n",
       "\t<tr><td>Adelie   </td><td>152</td></tr>\n",
       "\t<tr><td>Chinstrap</td><td> 68</td></tr>\n",
       "\t<tr><td>Gentoo   </td><td>124</td></tr>\n",
       "</tbody>\n",
       "</table>\n"
      ],
      "text/latex": [
       "A tibble: 3 × 2\n",
       "\\begin{tabular}{ll}\n",
       " species & n\\\\\n",
       " <fct> & <int>\\\\\n",
       "\\hline\n",
       "\t Adelie    & 152\\\\\n",
       "\t Chinstrap &  68\\\\\n",
       "\t Gentoo    & 124\\\\\n",
       "\\end{tabular}\n"
      ],
      "text/markdown": [
       "\n",
       "A tibble: 3 × 2\n",
       "\n",
       "| species &lt;fct&gt; | n &lt;int&gt; |\n",
       "|---|---|\n",
       "| Adelie    | 152 |\n",
       "| Chinstrap |  68 |\n",
       "| Gentoo    | 124 |\n",
       "\n"
      ],
      "text/plain": [
       "  species   n  \n",
       "1 Adelie    152\n",
       "2 Chinstrap  68\n",
       "3 Gentoo    124"
      ]
     },
     "metadata": {},
     "output_type": "display_data"
    }
   ],
   "source": [
    "penguins %>%\n",
    "  count(species)"
   ]
  },
  {
   "cell_type": "markdown",
   "metadata": {},
   "source": [
    "As we can see, the count() function returns the count of each species in the column. There are 152 penguins of the 'Adelie' species, 68 penguins of the 'Chinstrap' species, and 124 penguins of the 'Gentoo' species."
   ]
  },
  {
   "cell_type": "code",
   "execution_count": 13,
   "metadata": {
    "vscode": {
     "languageId": "r"
    }
   },
   "outputs": [
    {
     "data": {
      "text/html": [
       "<table class=\"dataframe\">\n",
       "<caption>A grouped_df: 183 × 8</caption>\n",
       "<thead>\n",
       "\t<tr><th scope=col>species</th><th scope=col>island</th><th scope=col>bill_length_mm</th><th scope=col>bill_depth_mm</th><th scope=col>flipper_length_mm</th><th scope=col>body_mass_g</th><th scope=col>sex</th><th scope=col>year</th></tr>\n",
       "\t<tr><th scope=col>&lt;fct&gt;</th><th scope=col>&lt;fct&gt;</th><th scope=col>&lt;dbl&gt;</th><th scope=col>&lt;dbl&gt;</th><th scope=col>&lt;int&gt;</th><th scope=col>&lt;int&gt;</th><th scope=col>&lt;fct&gt;</th><th scope=col>&lt;int&gt;</th></tr>\n",
       "</thead>\n",
       "<tbody>\n",
       "\t<tr><td>Adelie</td><td>Torgersen</td><td>40.3</td><td>18.0</td><td>195</td><td>3250</td><td>female</td><td>2007</td></tr>\n",
       "\t<tr><td>Adelie</td><td>Torgersen</td><td>36.7</td><td>19.3</td><td>193</td><td>3450</td><td>female</td><td>2007</td></tr>\n",
       "\t<tr><td>Adelie</td><td>Torgersen</td><td>39.3</td><td>20.6</td><td>190</td><td>3650</td><td>male  </td><td>2007</td></tr>\n",
       "\t<tr><td>Adelie</td><td>Torgersen</td><td>38.9</td><td>17.8</td><td>181</td><td>3625</td><td>female</td><td>2007</td></tr>\n",
       "\t<tr><td>Adelie</td><td>Torgersen</td><td>34.1</td><td>18.1</td><td>193</td><td>3475</td><td>NA    </td><td>2007</td></tr>\n",
       "\t<tr><td>Adelie</td><td>Torgersen</td><td>37.8</td><td>17.1</td><td>186</td><td>3300</td><td>NA    </td><td>2007</td></tr>\n",
       "\t<tr><td>Adelie</td><td>Torgersen</td><td>37.8</td><td>17.3</td><td>180</td><td>3700</td><td>NA    </td><td>2007</td></tr>\n",
       "\t<tr><td>Adelie</td><td>Torgersen</td><td>41.1</td><td>17.6</td><td>182</td><td>3200</td><td>female</td><td>2007</td></tr>\n",
       "\t<tr><td>Adelie</td><td>Torgersen</td><td>36.6</td><td>17.8</td><td>185</td><td>3700</td><td>female</td><td>2007</td></tr>\n",
       "\t<tr><td>Adelie</td><td>Torgersen</td><td>38.7</td><td>19.0</td><td>195</td><td>3450</td><td>female</td><td>2007</td></tr>\n",
       "\t<tr><td>Adelie</td><td>Torgersen</td><td>34.4</td><td>18.4</td><td>184</td><td>3325</td><td>female</td><td>2007</td></tr>\n",
       "\t<tr><td>Adelie</td><td>Biscoe   </td><td>37.8</td><td>18.3</td><td>174</td><td>3400</td><td>female</td><td>2007</td></tr>\n",
       "\t<tr><td>Adelie</td><td>Biscoe   </td><td>37.7</td><td>18.7</td><td>180</td><td>3600</td><td>male  </td><td>2007</td></tr>\n",
       "\t<tr><td>Adelie</td><td>Biscoe   </td><td>40.6</td><td>18.6</td><td>183</td><td>3550</td><td>male  </td><td>2007</td></tr>\n",
       "\t<tr><td>Adelie</td><td>Biscoe   </td><td>40.5</td><td>17.9</td><td>187</td><td>3200</td><td>female</td><td>2007</td></tr>\n",
       "\t<tr><td>Adelie</td><td>Biscoe   </td><td>37.9</td><td>18.6</td><td>172</td><td>3150</td><td>female</td><td>2007</td></tr>\n",
       "\t<tr><td>Adelie</td><td>Dream    </td><td>39.5</td><td>16.7</td><td>178</td><td>3250</td><td>female</td><td>2007</td></tr>\n",
       "\t<tr><td>Adelie</td><td>Dream    </td><td>39.5</td><td>17.8</td><td>188</td><td>3300</td><td>female</td><td>2007</td></tr>\n",
       "\t<tr><td>Adelie</td><td>Dream    </td><td>36.4</td><td>17.0</td><td>195</td><td>3325</td><td>female</td><td>2007</td></tr>\n",
       "\t<tr><td>Adelie</td><td>Dream    </td><td>42.2</td><td>18.5</td><td>180</td><td>3550</td><td>female</td><td>2007</td></tr>\n",
       "\t<tr><td>Adelie</td><td>Dream    </td><td>37.6</td><td>19.3</td><td>181</td><td>3300</td><td>female</td><td>2007</td></tr>\n",
       "\t<tr><td>Adelie</td><td>Dream    </td><td>36.5</td><td>18.0</td><td>182</td><td>3150</td><td>female</td><td>2007</td></tr>\n",
       "\t<tr><td>Adelie</td><td>Dream    </td><td>36.0</td><td>18.5</td><td>186</td><td>3100</td><td>female</td><td>2007</td></tr>\n",
       "\t<tr><td>Adelie</td><td>Dream    </td><td>37.0</td><td>16.9</td><td>185</td><td>3000</td><td>female</td><td>2007</td></tr>\n",
       "\t<tr><td>Adelie</td><td>Dream    </td><td>41.1</td><td>19.0</td><td>182</td><td>3425</td><td>male  </td><td>2007</td></tr>\n",
       "\t<tr><td>Adelie</td><td>Dream    </td><td>37.5</td><td>18.9</td><td>179</td><td>2975</td><td>NA    </td><td>2007</td></tr>\n",
       "\t<tr><td>Adelie</td><td>Dream    </td><td>36.0</td><td>17.9</td><td>190</td><td>3450</td><td>female</td><td>2007</td></tr>\n",
       "\t<tr><td>Adelie</td><td>Biscoe   </td><td>39.6</td><td>17.7</td><td>186</td><td>3500</td><td>female</td><td>2008</td></tr>\n",
       "\t<tr><td>Adelie</td><td>Biscoe   </td><td>35.0</td><td>17.9</td><td>190</td><td>3450</td><td>female</td><td>2008</td></tr>\n",
       "\t<tr><td>Adelie</td><td>Biscoe   </td><td>34.5</td><td>18.1</td><td>187</td><td>2900</td><td>female</td><td>2008</td></tr>\n",
       "\t<tr><td>⋮</td><td>⋮</td><td>⋮</td><td>⋮</td><td>⋮</td><td>⋮</td><td>⋮</td><td>⋮</td></tr>\n",
       "\t<tr><td>Chinstrap</td><td>Dream</td><td>45.9</td><td>17.1</td><td>190</td><td>3575</td><td>female</td><td>2007</td></tr>\n",
       "\t<tr><td>Chinstrap</td><td>Dream</td><td>50.3</td><td>20.0</td><td>197</td><td>3300</td><td>male  </td><td>2007</td></tr>\n",
       "\t<tr><td>Chinstrap</td><td>Dream</td><td>58.0</td><td>17.8</td><td>181</td><td>3700</td><td>female</td><td>2007</td></tr>\n",
       "\t<tr><td>Chinstrap</td><td>Dream</td><td>46.4</td><td>18.6</td><td>190</td><td>3450</td><td>female</td><td>2007</td></tr>\n",
       "\t<tr><td>Chinstrap</td><td>Dream</td><td>42.4</td><td>17.3</td><td>181</td><td>3600</td><td>female</td><td>2007</td></tr>\n",
       "\t<tr><td>Chinstrap</td><td>Dream</td><td>48.5</td><td>17.5</td><td>191</td><td>3400</td><td>male  </td><td>2007</td></tr>\n",
       "\t<tr><td>Chinstrap</td><td>Dream</td><td>43.2</td><td>16.6</td><td>187</td><td>2900</td><td>female</td><td>2007</td></tr>\n",
       "\t<tr><td>Chinstrap</td><td>Dream</td><td>46.7</td><td>17.9</td><td>195</td><td>3300</td><td>female</td><td>2007</td></tr>\n",
       "\t<tr><td>Chinstrap</td><td>Dream</td><td>50.5</td><td>18.4</td><td>200</td><td>3400</td><td>female</td><td>2008</td></tr>\n",
       "\t<tr><td>Chinstrap</td><td>Dream</td><td>46.4</td><td>17.8</td><td>191</td><td>3700</td><td>female</td><td>2008</td></tr>\n",
       "\t<tr><td>Chinstrap</td><td>Dream</td><td>40.9</td><td>16.6</td><td>187</td><td>3200</td><td>female</td><td>2008</td></tr>\n",
       "\t<tr><td>Chinstrap</td><td>Dream</td><td>42.5</td><td>16.7</td><td>187</td><td>3350</td><td>female</td><td>2008</td></tr>\n",
       "\t<tr><td>Chinstrap</td><td>Dream</td><td>49.7</td><td>18.6</td><td>195</td><td>3600</td><td>male  </td><td>2008</td></tr>\n",
       "\t<tr><td>Chinstrap</td><td>Dream</td><td>46.9</td><td>16.6</td><td>192</td><td>2700</td><td>female</td><td>2008</td></tr>\n",
       "\t<tr><td>Chinstrap</td><td>Dream</td><td>46.2</td><td>17.5</td><td>187</td><td>3650</td><td>female</td><td>2008</td></tr>\n",
       "\t<tr><td>Chinstrap</td><td>Dream</td><td>50.9</td><td>19.1</td><td>196</td><td>3550</td><td>male  </td><td>2008</td></tr>\n",
       "\t<tr><td>Chinstrap</td><td>Dream</td><td>45.5</td><td>17.0</td><td>196</td><td>3500</td><td>female</td><td>2008</td></tr>\n",
       "\t<tr><td>Chinstrap</td><td>Dream</td><td>50.9</td><td>17.9</td><td>196</td><td>3675</td><td>female</td><td>2009</td></tr>\n",
       "\t<tr><td>Chinstrap</td><td>Dream</td><td>50.1</td><td>17.9</td><td>190</td><td>3400</td><td>female</td><td>2009</td></tr>\n",
       "\t<tr><td>Chinstrap</td><td>Dream</td><td>51.5</td><td>18.7</td><td>187</td><td>3250</td><td>male  </td><td>2009</td></tr>\n",
       "\t<tr><td>Chinstrap</td><td>Dream</td><td>49.8</td><td>17.3</td><td>198</td><td>3675</td><td>female</td><td>2009</td></tr>\n",
       "\t<tr><td>Chinstrap</td><td>Dream</td><td>48.1</td><td>16.4</td><td>199</td><td>3325</td><td>female</td><td>2009</td></tr>\n",
       "\t<tr><td>Chinstrap</td><td>Dream</td><td>45.7</td><td>17.3</td><td>193</td><td>3600</td><td>female</td><td>2009</td></tr>\n",
       "\t<tr><td>Chinstrap</td><td>Dream</td><td>42.5</td><td>17.3</td><td>187</td><td>3350</td><td>female</td><td>2009</td></tr>\n",
       "\t<tr><td>Chinstrap</td><td>Dream</td><td>52.2</td><td>18.8</td><td>197</td><td>3450</td><td>male  </td><td>2009</td></tr>\n",
       "\t<tr><td>Chinstrap</td><td>Dream</td><td>45.2</td><td>16.6</td><td>191</td><td>3250</td><td>female</td><td>2009</td></tr>\n",
       "\t<tr><td>Chinstrap</td><td>Dream</td><td>45.6</td><td>19.4</td><td>194</td><td>3525</td><td>female</td><td>2009</td></tr>\n",
       "\t<tr><td>Chinstrap</td><td>Dream</td><td>46.8</td><td>16.5</td><td>189</td><td>3650</td><td>female</td><td>2009</td></tr>\n",
       "\t<tr><td>Chinstrap</td><td>Dream</td><td>45.7</td><td>17.0</td><td>195</td><td>3650</td><td>female</td><td>2009</td></tr>\n",
       "\t<tr><td>Chinstrap</td><td>Dream</td><td>43.5</td><td>18.1</td><td>202</td><td>3400</td><td>female</td><td>2009</td></tr>\n",
       "</tbody>\n",
       "</table>\n"
      ],
      "text/latex": [
       "A grouped\\_df: 183 × 8\n",
       "\\begin{tabular}{llllllll}\n",
       " species & island & bill\\_length\\_mm & bill\\_depth\\_mm & flipper\\_length\\_mm & body\\_mass\\_g & sex & year\\\\\n",
       " <fct> & <fct> & <dbl> & <dbl> & <int> & <int> & <fct> & <int>\\\\\n",
       "\\hline\n",
       "\t Adelie & Torgersen & 40.3 & 18.0 & 195 & 3250 & female & 2007\\\\\n",
       "\t Adelie & Torgersen & 36.7 & 19.3 & 193 & 3450 & female & 2007\\\\\n",
       "\t Adelie & Torgersen & 39.3 & 20.6 & 190 & 3650 & male   & 2007\\\\\n",
       "\t Adelie & Torgersen & 38.9 & 17.8 & 181 & 3625 & female & 2007\\\\\n",
       "\t Adelie & Torgersen & 34.1 & 18.1 & 193 & 3475 & NA     & 2007\\\\\n",
       "\t Adelie & Torgersen & 37.8 & 17.1 & 186 & 3300 & NA     & 2007\\\\\n",
       "\t Adelie & Torgersen & 37.8 & 17.3 & 180 & 3700 & NA     & 2007\\\\\n",
       "\t Adelie & Torgersen & 41.1 & 17.6 & 182 & 3200 & female & 2007\\\\\n",
       "\t Adelie & Torgersen & 36.6 & 17.8 & 185 & 3700 & female & 2007\\\\\n",
       "\t Adelie & Torgersen & 38.7 & 19.0 & 195 & 3450 & female & 2007\\\\\n",
       "\t Adelie & Torgersen & 34.4 & 18.4 & 184 & 3325 & female & 2007\\\\\n",
       "\t Adelie & Biscoe    & 37.8 & 18.3 & 174 & 3400 & female & 2007\\\\\n",
       "\t Adelie & Biscoe    & 37.7 & 18.7 & 180 & 3600 & male   & 2007\\\\\n",
       "\t Adelie & Biscoe    & 40.6 & 18.6 & 183 & 3550 & male   & 2007\\\\\n",
       "\t Adelie & Biscoe    & 40.5 & 17.9 & 187 & 3200 & female & 2007\\\\\n",
       "\t Adelie & Biscoe    & 37.9 & 18.6 & 172 & 3150 & female & 2007\\\\\n",
       "\t Adelie & Dream     & 39.5 & 16.7 & 178 & 3250 & female & 2007\\\\\n",
       "\t Adelie & Dream     & 39.5 & 17.8 & 188 & 3300 & female & 2007\\\\\n",
       "\t Adelie & Dream     & 36.4 & 17.0 & 195 & 3325 & female & 2007\\\\\n",
       "\t Adelie & Dream     & 42.2 & 18.5 & 180 & 3550 & female & 2007\\\\\n",
       "\t Adelie & Dream     & 37.6 & 19.3 & 181 & 3300 & female & 2007\\\\\n",
       "\t Adelie & Dream     & 36.5 & 18.0 & 182 & 3150 & female & 2007\\\\\n",
       "\t Adelie & Dream     & 36.0 & 18.5 & 186 & 3100 & female & 2007\\\\\n",
       "\t Adelie & Dream     & 37.0 & 16.9 & 185 & 3000 & female & 2007\\\\\n",
       "\t Adelie & Dream     & 41.1 & 19.0 & 182 & 3425 & male   & 2007\\\\\n",
       "\t Adelie & Dream     & 37.5 & 18.9 & 179 & 2975 & NA     & 2007\\\\\n",
       "\t Adelie & Dream     & 36.0 & 17.9 & 190 & 3450 & female & 2007\\\\\n",
       "\t Adelie & Biscoe    & 39.6 & 17.7 & 186 & 3500 & female & 2008\\\\\n",
       "\t Adelie & Biscoe    & 35.0 & 17.9 & 190 & 3450 & female & 2008\\\\\n",
       "\t Adelie & Biscoe    & 34.5 & 18.1 & 187 & 2900 & female & 2008\\\\\n",
       "\t ⋮ & ⋮ & ⋮ & ⋮ & ⋮ & ⋮ & ⋮ & ⋮\\\\\n",
       "\t Chinstrap & Dream & 45.9 & 17.1 & 190 & 3575 & female & 2007\\\\\n",
       "\t Chinstrap & Dream & 50.3 & 20.0 & 197 & 3300 & male   & 2007\\\\\n",
       "\t Chinstrap & Dream & 58.0 & 17.8 & 181 & 3700 & female & 2007\\\\\n",
       "\t Chinstrap & Dream & 46.4 & 18.6 & 190 & 3450 & female & 2007\\\\\n",
       "\t Chinstrap & Dream & 42.4 & 17.3 & 181 & 3600 & female & 2007\\\\\n",
       "\t Chinstrap & Dream & 48.5 & 17.5 & 191 & 3400 & male   & 2007\\\\\n",
       "\t Chinstrap & Dream & 43.2 & 16.6 & 187 & 2900 & female & 2007\\\\\n",
       "\t Chinstrap & Dream & 46.7 & 17.9 & 195 & 3300 & female & 2007\\\\\n",
       "\t Chinstrap & Dream & 50.5 & 18.4 & 200 & 3400 & female & 2008\\\\\n",
       "\t Chinstrap & Dream & 46.4 & 17.8 & 191 & 3700 & female & 2008\\\\\n",
       "\t Chinstrap & Dream & 40.9 & 16.6 & 187 & 3200 & female & 2008\\\\\n",
       "\t Chinstrap & Dream & 42.5 & 16.7 & 187 & 3350 & female & 2008\\\\\n",
       "\t Chinstrap & Dream & 49.7 & 18.6 & 195 & 3600 & male   & 2008\\\\\n",
       "\t Chinstrap & Dream & 46.9 & 16.6 & 192 & 2700 & female & 2008\\\\\n",
       "\t Chinstrap & Dream & 46.2 & 17.5 & 187 & 3650 & female & 2008\\\\\n",
       "\t Chinstrap & Dream & 50.9 & 19.1 & 196 & 3550 & male   & 2008\\\\\n",
       "\t Chinstrap & Dream & 45.5 & 17.0 & 196 & 3500 & female & 2008\\\\\n",
       "\t Chinstrap & Dream & 50.9 & 17.9 & 196 & 3675 & female & 2009\\\\\n",
       "\t Chinstrap & Dream & 50.1 & 17.9 & 190 & 3400 & female & 2009\\\\\n",
       "\t Chinstrap & Dream & 51.5 & 18.7 & 187 & 3250 & male   & 2009\\\\\n",
       "\t Chinstrap & Dream & 49.8 & 17.3 & 198 & 3675 & female & 2009\\\\\n",
       "\t Chinstrap & Dream & 48.1 & 16.4 & 199 & 3325 & female & 2009\\\\\n",
       "\t Chinstrap & Dream & 45.7 & 17.3 & 193 & 3600 & female & 2009\\\\\n",
       "\t Chinstrap & Dream & 42.5 & 17.3 & 187 & 3350 & female & 2009\\\\\n",
       "\t Chinstrap & Dream & 52.2 & 18.8 & 197 & 3450 & male   & 2009\\\\\n",
       "\t Chinstrap & Dream & 45.2 & 16.6 & 191 & 3250 & female & 2009\\\\\n",
       "\t Chinstrap & Dream & 45.6 & 19.4 & 194 & 3525 & female & 2009\\\\\n",
       "\t Chinstrap & Dream & 46.8 & 16.5 & 189 & 3650 & female & 2009\\\\\n",
       "\t Chinstrap & Dream & 45.7 & 17.0 & 195 & 3650 & female & 2009\\\\\n",
       "\t Chinstrap & Dream & 43.5 & 18.1 & 202 & 3400 & female & 2009\\\\\n",
       "\\end{tabular}\n"
      ],
      "text/markdown": [
       "\n",
       "A grouped_df: 183 × 8\n",
       "\n",
       "| species &lt;fct&gt; | island &lt;fct&gt; | bill_length_mm &lt;dbl&gt; | bill_depth_mm &lt;dbl&gt; | flipper_length_mm &lt;int&gt; | body_mass_g &lt;int&gt; | sex &lt;fct&gt; | year &lt;int&gt; |\n",
       "|---|---|---|---|---|---|---|---|\n",
       "| Adelie | Torgersen | 40.3 | 18.0 | 195 | 3250 | female | 2007 |\n",
       "| Adelie | Torgersen | 36.7 | 19.3 | 193 | 3450 | female | 2007 |\n",
       "| Adelie | Torgersen | 39.3 | 20.6 | 190 | 3650 | male   | 2007 |\n",
       "| Adelie | Torgersen | 38.9 | 17.8 | 181 | 3625 | female | 2007 |\n",
       "| Adelie | Torgersen | 34.1 | 18.1 | 193 | 3475 | NA     | 2007 |\n",
       "| Adelie | Torgersen | 37.8 | 17.1 | 186 | 3300 | NA     | 2007 |\n",
       "| Adelie | Torgersen | 37.8 | 17.3 | 180 | 3700 | NA     | 2007 |\n",
       "| Adelie | Torgersen | 41.1 | 17.6 | 182 | 3200 | female | 2007 |\n",
       "| Adelie | Torgersen | 36.6 | 17.8 | 185 | 3700 | female | 2007 |\n",
       "| Adelie | Torgersen | 38.7 | 19.0 | 195 | 3450 | female | 2007 |\n",
       "| Adelie | Torgersen | 34.4 | 18.4 | 184 | 3325 | female | 2007 |\n",
       "| Adelie | Biscoe    | 37.8 | 18.3 | 174 | 3400 | female | 2007 |\n",
       "| Adelie | Biscoe    | 37.7 | 18.7 | 180 | 3600 | male   | 2007 |\n",
       "| Adelie | Biscoe    | 40.6 | 18.6 | 183 | 3550 | male   | 2007 |\n",
       "| Adelie | Biscoe    | 40.5 | 17.9 | 187 | 3200 | female | 2007 |\n",
       "| Adelie | Biscoe    | 37.9 | 18.6 | 172 | 3150 | female | 2007 |\n",
       "| Adelie | Dream     | 39.5 | 16.7 | 178 | 3250 | female | 2007 |\n",
       "| Adelie | Dream     | 39.5 | 17.8 | 188 | 3300 | female | 2007 |\n",
       "| Adelie | Dream     | 36.4 | 17.0 | 195 | 3325 | female | 2007 |\n",
       "| Adelie | Dream     | 42.2 | 18.5 | 180 | 3550 | female | 2007 |\n",
       "| Adelie | Dream     | 37.6 | 19.3 | 181 | 3300 | female | 2007 |\n",
       "| Adelie | Dream     | 36.5 | 18.0 | 182 | 3150 | female | 2007 |\n",
       "| Adelie | Dream     | 36.0 | 18.5 | 186 | 3100 | female | 2007 |\n",
       "| Adelie | Dream     | 37.0 | 16.9 | 185 | 3000 | female | 2007 |\n",
       "| Adelie | Dream     | 41.1 | 19.0 | 182 | 3425 | male   | 2007 |\n",
       "| Adelie | Dream     | 37.5 | 18.9 | 179 | 2975 | NA     | 2007 |\n",
       "| Adelie | Dream     | 36.0 | 17.9 | 190 | 3450 | female | 2007 |\n",
       "| Adelie | Biscoe    | 39.6 | 17.7 | 186 | 3500 | female | 2008 |\n",
       "| Adelie | Biscoe    | 35.0 | 17.9 | 190 | 3450 | female | 2008 |\n",
       "| Adelie | Biscoe    | 34.5 | 18.1 | 187 | 2900 | female | 2008 |\n",
       "| ⋮ | ⋮ | ⋮ | ⋮ | ⋮ | ⋮ | ⋮ | ⋮ |\n",
       "| Chinstrap | Dream | 45.9 | 17.1 | 190 | 3575 | female | 2007 |\n",
       "| Chinstrap | Dream | 50.3 | 20.0 | 197 | 3300 | male   | 2007 |\n",
       "| Chinstrap | Dream | 58.0 | 17.8 | 181 | 3700 | female | 2007 |\n",
       "| Chinstrap | Dream | 46.4 | 18.6 | 190 | 3450 | female | 2007 |\n",
       "| Chinstrap | Dream | 42.4 | 17.3 | 181 | 3600 | female | 2007 |\n",
       "| Chinstrap | Dream | 48.5 | 17.5 | 191 | 3400 | male   | 2007 |\n",
       "| Chinstrap | Dream | 43.2 | 16.6 | 187 | 2900 | female | 2007 |\n",
       "| Chinstrap | Dream | 46.7 | 17.9 | 195 | 3300 | female | 2007 |\n",
       "| Chinstrap | Dream | 50.5 | 18.4 | 200 | 3400 | female | 2008 |\n",
       "| Chinstrap | Dream | 46.4 | 17.8 | 191 | 3700 | female | 2008 |\n",
       "| Chinstrap | Dream | 40.9 | 16.6 | 187 | 3200 | female | 2008 |\n",
       "| Chinstrap | Dream | 42.5 | 16.7 | 187 | 3350 | female | 2008 |\n",
       "| Chinstrap | Dream | 49.7 | 18.6 | 195 | 3600 | male   | 2008 |\n",
       "| Chinstrap | Dream | 46.9 | 16.6 | 192 | 2700 | female | 2008 |\n",
       "| Chinstrap | Dream | 46.2 | 17.5 | 187 | 3650 | female | 2008 |\n",
       "| Chinstrap | Dream | 50.9 | 19.1 | 196 | 3550 | male   | 2008 |\n",
       "| Chinstrap | Dream | 45.5 | 17.0 | 196 | 3500 | female | 2008 |\n",
       "| Chinstrap | Dream | 50.9 | 17.9 | 196 | 3675 | female | 2009 |\n",
       "| Chinstrap | Dream | 50.1 | 17.9 | 190 | 3400 | female | 2009 |\n",
       "| Chinstrap | Dream | 51.5 | 18.7 | 187 | 3250 | male   | 2009 |\n",
       "| Chinstrap | Dream | 49.8 | 17.3 | 198 | 3675 | female | 2009 |\n",
       "| Chinstrap | Dream | 48.1 | 16.4 | 199 | 3325 | female | 2009 |\n",
       "| Chinstrap | Dream | 45.7 | 17.3 | 193 | 3600 | female | 2009 |\n",
       "| Chinstrap | Dream | 42.5 | 17.3 | 187 | 3350 | female | 2009 |\n",
       "| Chinstrap | Dream | 52.2 | 18.8 | 197 | 3450 | male   | 2009 |\n",
       "| Chinstrap | Dream | 45.2 | 16.6 | 191 | 3250 | female | 2009 |\n",
       "| Chinstrap | Dream | 45.6 | 19.4 | 194 | 3525 | female | 2009 |\n",
       "| Chinstrap | Dream | 46.8 | 16.5 | 189 | 3650 | female | 2009 |\n",
       "| Chinstrap | Dream | 45.7 | 17.0 | 195 | 3650 | female | 2009 |\n",
       "| Chinstrap | Dream | 43.5 | 18.1 | 202 | 3400 | female | 2009 |\n",
       "\n"
      ],
      "text/plain": [
       "    species   island    bill_length_mm bill_depth_mm flipper_length_mm\n",
       "1   Adelie    Torgersen 40.3           18.0          195              \n",
       "2   Adelie    Torgersen 36.7           19.3          193              \n",
       "3   Adelie    Torgersen 39.3           20.6          190              \n",
       "4   Adelie    Torgersen 38.9           17.8          181              \n",
       "5   Adelie    Torgersen 34.1           18.1          193              \n",
       "6   Adelie    Torgersen 37.8           17.1          186              \n",
       "7   Adelie    Torgersen 37.8           17.3          180              \n",
       "8   Adelie    Torgersen 41.1           17.6          182              \n",
       "9   Adelie    Torgersen 36.6           17.8          185              \n",
       "10  Adelie    Torgersen 38.7           19.0          195              \n",
       "11  Adelie    Torgersen 34.4           18.4          184              \n",
       "12  Adelie    Biscoe    37.8           18.3          174              \n",
       "13  Adelie    Biscoe    37.7           18.7          180              \n",
       "14  Adelie    Biscoe    40.6           18.6          183              \n",
       "15  Adelie    Biscoe    40.5           17.9          187              \n",
       "16  Adelie    Biscoe    37.9           18.6          172              \n",
       "17  Adelie    Dream     39.5           16.7          178              \n",
       "18  Adelie    Dream     39.5           17.8          188              \n",
       "19  Adelie    Dream     36.4           17.0          195              \n",
       "20  Adelie    Dream     42.2           18.5          180              \n",
       "21  Adelie    Dream     37.6           19.3          181              \n",
       "22  Adelie    Dream     36.5           18.0          182              \n",
       "23  Adelie    Dream     36.0           18.5          186              \n",
       "24  Adelie    Dream     37.0           16.9          185              \n",
       "25  Adelie    Dream     41.1           19.0          182              \n",
       "26  Adelie    Dream     37.5           18.9          179              \n",
       "27  Adelie    Dream     36.0           17.9          190              \n",
       "28  Adelie    Biscoe    39.6           17.7          186              \n",
       "29  Adelie    Biscoe    35.0           17.9          190              \n",
       "30  Adelie    Biscoe    34.5           18.1          187              \n",
       "⋮   ⋮         ⋮         ⋮              ⋮             ⋮                \n",
       "154 Chinstrap Dream     45.9           17.1          190              \n",
       "155 Chinstrap Dream     50.3           20.0          197              \n",
       "156 Chinstrap Dream     58.0           17.8          181              \n",
       "157 Chinstrap Dream     46.4           18.6          190              \n",
       "158 Chinstrap Dream     42.4           17.3          181              \n",
       "159 Chinstrap Dream     48.5           17.5          191              \n",
       "160 Chinstrap Dream     43.2           16.6          187              \n",
       "161 Chinstrap Dream     46.7           17.9          195              \n",
       "162 Chinstrap Dream     50.5           18.4          200              \n",
       "163 Chinstrap Dream     46.4           17.8          191              \n",
       "164 Chinstrap Dream     40.9           16.6          187              \n",
       "165 Chinstrap Dream     42.5           16.7          187              \n",
       "166 Chinstrap Dream     49.7           18.6          195              \n",
       "167 Chinstrap Dream     46.9           16.6          192              \n",
       "168 Chinstrap Dream     46.2           17.5          187              \n",
       "169 Chinstrap Dream     50.9           19.1          196              \n",
       "170 Chinstrap Dream     45.5           17.0          196              \n",
       "171 Chinstrap Dream     50.9           17.9          196              \n",
       "172 Chinstrap Dream     50.1           17.9          190              \n",
       "173 Chinstrap Dream     51.5           18.7          187              \n",
       "174 Chinstrap Dream     49.8           17.3          198              \n",
       "175 Chinstrap Dream     48.1           16.4          199              \n",
       "176 Chinstrap Dream     45.7           17.3          193              \n",
       "177 Chinstrap Dream     42.5           17.3          187              \n",
       "178 Chinstrap Dream     52.2           18.8          197              \n",
       "179 Chinstrap Dream     45.2           16.6          191              \n",
       "180 Chinstrap Dream     45.6           19.4          194              \n",
       "181 Chinstrap Dream     46.8           16.5          189              \n",
       "182 Chinstrap Dream     45.7           17.0          195              \n",
       "183 Chinstrap Dream     43.5           18.1          202              \n",
       "    body_mass_g sex    year\n",
       "1   3250        female 2007\n",
       "2   3450        female 2007\n",
       "3   3650        male   2007\n",
       "4   3625        female 2007\n",
       "5   3475        NA     2007\n",
       "6   3300        NA     2007\n",
       "7   3700        NA     2007\n",
       "8   3200        female 2007\n",
       "9   3700        female 2007\n",
       "10  3450        female 2007\n",
       "11  3325        female 2007\n",
       "12  3400        female 2007\n",
       "13  3600        male   2007\n",
       "14  3550        male   2007\n",
       "15  3200        female 2007\n",
       "16  3150        female 2007\n",
       "17  3250        female 2007\n",
       "18  3300        female 2007\n",
       "19  3325        female 2007\n",
       "20  3550        female 2007\n",
       "21  3300        female 2007\n",
       "22  3150        female 2007\n",
       "23  3100        female 2007\n",
       "24  3000        female 2007\n",
       "25  3425        male   2007\n",
       "26  2975        NA     2007\n",
       "27  3450        female 2007\n",
       "28  3500        female 2008\n",
       "29  3450        female 2008\n",
       "30  2900        female 2008\n",
       "⋮   ⋮           ⋮      ⋮   \n",
       "154 3575        female 2007\n",
       "155 3300        male   2007\n",
       "156 3700        female 2007\n",
       "157 3450        female 2007\n",
       "158 3600        female 2007\n",
       "159 3400        male   2007\n",
       "160 2900        female 2007\n",
       "161 3300        female 2007\n",
       "162 3400        female 2008\n",
       "163 3700        female 2008\n",
       "164 3200        female 2008\n",
       "165 3350        female 2008\n",
       "166 3600        male   2008\n",
       "167 2700        female 2008\n",
       "168 3650        female 2008\n",
       "169 3550        male   2008\n",
       "170 3500        female 2008\n",
       "171 3675        female 2009\n",
       "172 3400        female 2009\n",
       "173 3250        male   2009\n",
       "174 3675        female 2009\n",
       "175 3325        female 2009\n",
       "176 3600        female 2009\n",
       "177 3350        female 2009\n",
       "178 3450        male   2009\n",
       "179 3250        female 2009\n",
       "180 3525        female 2009\n",
       "181 3650        female 2009\n",
       "182 3650        female 2009\n",
       "183 3400        female 2009"
      ]
     },
     "metadata": {},
     "output_type": "display_data"
    }
   ],
   "source": [
    "penguins %>%\n",
    "  group_by(species) %>%\n",
    "    filter(body_mass_g < mean(body_mass_g, na.rm=TRUE))"
   ]
  },
  {
   "cell_type": "code",
   "execution_count": 14,
   "metadata": {
    "vscode": {
     "languageId": "r"
    }
   },
   "outputs": [
    {
     "data": {
      "text/html": [
       "<table class=\"dataframe\">\n",
       "<caption>A grouped_df: 183 × 8</caption>\n",
       "<thead>\n",
       "\t<tr><th scope=col>species</th><th scope=col>island</th><th scope=col>bill_length_mm</th><th scope=col>bill_depth_mm</th><th scope=col>flipper_length_mm</th><th scope=col>body_mass_g</th><th scope=col>sex</th><th scope=col>year</th></tr>\n",
       "\t<tr><th scope=col>&lt;fct&gt;</th><th scope=col>&lt;fct&gt;</th><th scope=col>&lt;dbl&gt;</th><th scope=col>&lt;dbl&gt;</th><th scope=col>&lt;int&gt;</th><th scope=col>&lt;int&gt;</th><th scope=col>&lt;fct&gt;</th><th scope=col>&lt;int&gt;</th></tr>\n",
       "</thead>\n",
       "<tbody>\n",
       "\t<tr><td>Gentoo</td><td>Biscoe</td><td>46.3</td><td>15.8</td><td>215</td><td>5050</td><td>male  </td><td>2007</td></tr>\n",
       "\t<tr><td>Gentoo</td><td>Biscoe</td><td>45.1</td><td>14.5</td><td>207</td><td>5050</td><td>female</td><td>2007</td></tr>\n",
       "\t<tr><td>Gentoo</td><td>Biscoe</td><td>45.0</td><td>15.4</td><td>220</td><td>5050</td><td>male  </td><td>2008</td></tr>\n",
       "\t<tr><td>Gentoo</td><td>Biscoe</td><td>45.1</td><td>14.5</td><td>215</td><td>5000</td><td>female</td><td>2007</td></tr>\n",
       "\t<tr><td>Gentoo</td><td>Biscoe</td><td>42.9</td><td>13.1</td><td>215</td><td>5000</td><td>female</td><td>2007</td></tr>\n",
       "\t<tr><td>Gentoo</td><td>Biscoe</td><td>50.1</td><td>15.0</td><td>225</td><td>5000</td><td>male  </td><td>2008</td></tr>\n",
       "\t<tr><td>Gentoo</td><td>Biscoe</td><td>45.5</td><td>15.0</td><td>220</td><td>5000</td><td>male  </td><td>2008</td></tr>\n",
       "\t<tr><td>Gentoo</td><td>Biscoe</td><td>46.4</td><td>15.6</td><td>221</td><td>5000</td><td>male  </td><td>2008</td></tr>\n",
       "\t<tr><td>Gentoo</td><td>Biscoe</td><td>50.5</td><td>15.2</td><td>216</td><td>5000</td><td>female</td><td>2009</td></tr>\n",
       "\t<tr><td>Gentoo</td><td>Biscoe</td><td>47.2</td><td>15.5</td><td>215</td><td>4975</td><td>female</td><td>2009</td></tr>\n",
       "\t<tr><td>Gentoo</td><td>Biscoe</td><td>42.6</td><td>13.7</td><td>213</td><td>4950</td><td>female</td><td>2008</td></tr>\n",
       "\t<tr><td>Gentoo</td><td>Biscoe</td><td>47.5</td><td>15.0</td><td>218</td><td>4950</td><td>female</td><td>2009</td></tr>\n",
       "\t<tr><td>Gentoo</td><td>Biscoe</td><td>49.4</td><td>15.8</td><td>216</td><td>4925</td><td>male  </td><td>2009</td></tr>\n",
       "\t<tr><td>Gentoo</td><td>Biscoe</td><td>47.2</td><td>13.7</td><td>214</td><td>4925</td><td>female</td><td>2009</td></tr>\n",
       "\t<tr><td>Gentoo</td><td>Biscoe</td><td>43.6</td><td>13.9</td><td>217</td><td>4900</td><td>female</td><td>2008</td></tr>\n",
       "\t<tr><td>Gentoo</td><td>Biscoe</td><td>46.5</td><td>14.4</td><td>217</td><td>4900</td><td>female</td><td>2008</td></tr>\n",
       "\t<tr><td>Gentoo</td><td>Biscoe</td><td>47.5</td><td>14.0</td><td>212</td><td>4875</td><td>female</td><td>2009</td></tr>\n",
       "\t<tr><td>Gentoo</td><td>Biscoe</td><td>46.9</td><td>14.6</td><td>222</td><td>4875</td><td>female</td><td>2009</td></tr>\n",
       "\t<tr><td>Gentoo</td><td>Biscoe</td><td>44.5</td><td>15.7</td><td>217</td><td>4875</td><td>NA    </td><td>2009</td></tr>\n",
       "\t<tr><td>Gentoo</td><td>Biscoe</td><td>46.6</td><td>14.2</td><td>210</td><td>4850</td><td>female</td><td>2008</td></tr>\n",
       "\t<tr><td>Gentoo</td><td>Biscoe</td><td>44.5</td><td>14.7</td><td>214</td><td>4850</td><td>female</td><td>2009</td></tr>\n",
       "\t<tr><td>Gentoo</td><td>Biscoe</td><td>48.5</td><td>15.0</td><td>219</td><td>4850</td><td>female</td><td>2009</td></tr>\n",
       "\t<tr><td>Gentoo</td><td>Biscoe</td><td>46.8</td><td>14.3</td><td>215</td><td>4850</td><td>female</td><td>2009</td></tr>\n",
       "\t<tr><td>Gentoo</td><td>Biscoe</td><td>45.4</td><td>14.6</td><td>211</td><td>4800</td><td>female</td><td>2007</td></tr>\n",
       "\t<tr><td>Gentoo</td><td>Biscoe</td><td>46.2</td><td>14.5</td><td>209</td><td>4800</td><td>female</td><td>2007</td></tr>\n",
       "\t<tr><td>Gentoo</td><td>Biscoe</td><td>49.6</td><td>15.0</td><td>216</td><td>4750</td><td>male  </td><td>2008</td></tr>\n",
       "\t<tr><td>Gentoo</td><td>Biscoe</td><td>47.7</td><td>15.0</td><td>216</td><td>4750</td><td>female</td><td>2008</td></tr>\n",
       "\t<tr><td>Gentoo</td><td>Biscoe</td><td>45.2</td><td>13.8</td><td>215</td><td>4750</td><td>female</td><td>2008</td></tr>\n",
       "\t<tr><td>Gentoo</td><td>Biscoe</td><td>44.9</td><td>13.8</td><td>212</td><td>4750</td><td>female</td><td>2009</td></tr>\n",
       "\t<tr><td>Gentoo</td><td>Biscoe</td><td>45.5</td><td>14.5</td><td>212</td><td>4750</td><td>female</td><td>2009</td></tr>\n",
       "\t<tr><td>⋮</td><td>⋮</td><td>⋮</td><td>⋮</td><td>⋮</td><td>⋮</td><td>⋮</td><td>⋮</td></tr>\n",
       "\t<tr><td>Chinstrap</td><td>Dream    </td><td>51.5</td><td>18.7</td><td>187</td><td>3250</td><td>male  </td><td>2009</td></tr>\n",
       "\t<tr><td>Chinstrap</td><td>Dream    </td><td>45.2</td><td>16.6</td><td>191</td><td>3250</td><td>female</td><td>2009</td></tr>\n",
       "\t<tr><td>Adelie   </td><td>Torgersen</td><td>41.1</td><td>17.6</td><td>182</td><td>3200</td><td>female</td><td>2007</td></tr>\n",
       "\t<tr><td>Adelie   </td><td>Biscoe   </td><td>40.5</td><td>17.9</td><td>187</td><td>3200</td><td>female</td><td>2007</td></tr>\n",
       "\t<tr><td>Adelie   </td><td>Torgersen</td><td>34.6</td><td>17.2</td><td>189</td><td>3200</td><td>female</td><td>2008</td></tr>\n",
       "\t<tr><td>Adelie   </td><td>Biscoe   </td><td>39.7</td><td>17.7</td><td>193</td><td>3200</td><td>female</td><td>2009</td></tr>\n",
       "\t<tr><td>Chinstrap</td><td>Dream    </td><td>40.9</td><td>16.6</td><td>187</td><td>3200</td><td>female</td><td>2008</td></tr>\n",
       "\t<tr><td>Adelie   </td><td>Biscoe   </td><td>38.1</td><td>17.0</td><td>181</td><td>3175</td><td>female</td><td>2009</td></tr>\n",
       "\t<tr><td>Adelie   </td><td>Dream    </td><td>35.6</td><td>17.5</td><td>191</td><td>3175</td><td>female</td><td>2009</td></tr>\n",
       "\t<tr><td>Adelie   </td><td>Biscoe   </td><td>37.9</td><td>18.6</td><td>172</td><td>3150</td><td>female</td><td>2007</td></tr>\n",
       "\t<tr><td>Adelie   </td><td>Dream    </td><td>36.5</td><td>18.0</td><td>182</td><td>3150</td><td>female</td><td>2007</td></tr>\n",
       "\t<tr><td>Adelie   </td><td>Biscoe   </td><td>35.7</td><td>16.9</td><td>185</td><td>3150</td><td>female</td><td>2008</td></tr>\n",
       "\t<tr><td>Adelie   </td><td>Torgersen</td><td>36.2</td><td>17.2</td><td>187</td><td>3150</td><td>female</td><td>2009</td></tr>\n",
       "\t<tr><td>Adelie   </td><td>Dream    </td><td>36.0</td><td>18.5</td><td>186</td><td>3100</td><td>female</td><td>2007</td></tr>\n",
       "\t<tr><td>Adelie   </td><td>Biscoe   </td><td>37.7</td><td>16.0</td><td>183</td><td>3075</td><td>female</td><td>2009</td></tr>\n",
       "\t<tr><td>Adelie   </td><td>Torgersen</td><td>35.9</td><td>16.6</td><td>190</td><td>3050</td><td>female</td><td>2008</td></tr>\n",
       "\t<tr><td>Adelie   </td><td>Torgersen</td><td>35.2</td><td>15.9</td><td>186</td><td>3050</td><td>female</td><td>2009</td></tr>\n",
       "\t<tr><td>Adelie   </td><td>Torgersen</td><td>39.0</td><td>17.1</td><td>191</td><td>3050</td><td>female</td><td>2009</td></tr>\n",
       "\t<tr><td>Adelie   </td><td>Dream    </td><td>32.1</td><td>15.5</td><td>188</td><td>3050</td><td>female</td><td>2009</td></tr>\n",
       "\t<tr><td>Adelie   </td><td>Dream    </td><td>37.0</td><td>16.9</td><td>185</td><td>3000</td><td>female</td><td>2007</td></tr>\n",
       "\t<tr><td>Adelie   </td><td>Dream    </td><td>37.3</td><td>16.8</td><td>192</td><td>3000</td><td>female</td><td>2009</td></tr>\n",
       "\t<tr><td>Adelie   </td><td>Dream    </td><td>37.5</td><td>18.9</td><td>179</td><td>2975</td><td>NA    </td><td>2007</td></tr>\n",
       "\t<tr><td>Adelie   </td><td>Biscoe   </td><td>37.9</td><td>18.6</td><td>193</td><td>2925</td><td>female</td><td>2009</td></tr>\n",
       "\t<tr><td>Adelie   </td><td>Biscoe   </td><td>34.5</td><td>18.1</td><td>187</td><td>2900</td><td>female</td><td>2008</td></tr>\n",
       "\t<tr><td>Adelie   </td><td>Dream    </td><td>33.1</td><td>16.1</td><td>178</td><td>2900</td><td>female</td><td>2008</td></tr>\n",
       "\t<tr><td>Adelie   </td><td>Torgersen</td><td>38.6</td><td>17.0</td><td>188</td><td>2900</td><td>female</td><td>2009</td></tr>\n",
       "\t<tr><td>Chinstrap</td><td>Dream    </td><td>43.2</td><td>16.6</td><td>187</td><td>2900</td><td>female</td><td>2007</td></tr>\n",
       "\t<tr><td>Adelie   </td><td>Biscoe   </td><td>36.5</td><td>16.6</td><td>181</td><td>2850</td><td>female</td><td>2008</td></tr>\n",
       "\t<tr><td>Adelie   </td><td>Biscoe   </td><td>36.4</td><td>17.1</td><td>184</td><td>2850</td><td>female</td><td>2008</td></tr>\n",
       "\t<tr><td>Chinstrap</td><td>Dream    </td><td>46.9</td><td>16.6</td><td>192</td><td>2700</td><td>female</td><td>2008</td></tr>\n",
       "</tbody>\n",
       "</table>\n"
      ],
      "text/latex": [
       "A grouped\\_df: 183 × 8\n",
       "\\begin{tabular}{llllllll}\n",
       " species & island & bill\\_length\\_mm & bill\\_depth\\_mm & flipper\\_length\\_mm & body\\_mass\\_g & sex & year\\\\\n",
       " <fct> & <fct> & <dbl> & <dbl> & <int> & <int> & <fct> & <int>\\\\\n",
       "\\hline\n",
       "\t Gentoo & Biscoe & 46.3 & 15.8 & 215 & 5050 & male   & 2007\\\\\n",
       "\t Gentoo & Biscoe & 45.1 & 14.5 & 207 & 5050 & female & 2007\\\\\n",
       "\t Gentoo & Biscoe & 45.0 & 15.4 & 220 & 5050 & male   & 2008\\\\\n",
       "\t Gentoo & Biscoe & 45.1 & 14.5 & 215 & 5000 & female & 2007\\\\\n",
       "\t Gentoo & Biscoe & 42.9 & 13.1 & 215 & 5000 & female & 2007\\\\\n",
       "\t Gentoo & Biscoe & 50.1 & 15.0 & 225 & 5000 & male   & 2008\\\\\n",
       "\t Gentoo & Biscoe & 45.5 & 15.0 & 220 & 5000 & male   & 2008\\\\\n",
       "\t Gentoo & Biscoe & 46.4 & 15.6 & 221 & 5000 & male   & 2008\\\\\n",
       "\t Gentoo & Biscoe & 50.5 & 15.2 & 216 & 5000 & female & 2009\\\\\n",
       "\t Gentoo & Biscoe & 47.2 & 15.5 & 215 & 4975 & female & 2009\\\\\n",
       "\t Gentoo & Biscoe & 42.6 & 13.7 & 213 & 4950 & female & 2008\\\\\n",
       "\t Gentoo & Biscoe & 47.5 & 15.0 & 218 & 4950 & female & 2009\\\\\n",
       "\t Gentoo & Biscoe & 49.4 & 15.8 & 216 & 4925 & male   & 2009\\\\\n",
       "\t Gentoo & Biscoe & 47.2 & 13.7 & 214 & 4925 & female & 2009\\\\\n",
       "\t Gentoo & Biscoe & 43.6 & 13.9 & 217 & 4900 & female & 2008\\\\\n",
       "\t Gentoo & Biscoe & 46.5 & 14.4 & 217 & 4900 & female & 2008\\\\\n",
       "\t Gentoo & Biscoe & 47.5 & 14.0 & 212 & 4875 & female & 2009\\\\\n",
       "\t Gentoo & Biscoe & 46.9 & 14.6 & 222 & 4875 & female & 2009\\\\\n",
       "\t Gentoo & Biscoe & 44.5 & 15.7 & 217 & 4875 & NA     & 2009\\\\\n",
       "\t Gentoo & Biscoe & 46.6 & 14.2 & 210 & 4850 & female & 2008\\\\\n",
       "\t Gentoo & Biscoe & 44.5 & 14.7 & 214 & 4850 & female & 2009\\\\\n",
       "\t Gentoo & Biscoe & 48.5 & 15.0 & 219 & 4850 & female & 2009\\\\\n",
       "\t Gentoo & Biscoe & 46.8 & 14.3 & 215 & 4850 & female & 2009\\\\\n",
       "\t Gentoo & Biscoe & 45.4 & 14.6 & 211 & 4800 & female & 2007\\\\\n",
       "\t Gentoo & Biscoe & 46.2 & 14.5 & 209 & 4800 & female & 2007\\\\\n",
       "\t Gentoo & Biscoe & 49.6 & 15.0 & 216 & 4750 & male   & 2008\\\\\n",
       "\t Gentoo & Biscoe & 47.7 & 15.0 & 216 & 4750 & female & 2008\\\\\n",
       "\t Gentoo & Biscoe & 45.2 & 13.8 & 215 & 4750 & female & 2008\\\\\n",
       "\t Gentoo & Biscoe & 44.9 & 13.8 & 212 & 4750 & female & 2009\\\\\n",
       "\t Gentoo & Biscoe & 45.5 & 14.5 & 212 & 4750 & female & 2009\\\\\n",
       "\t ⋮ & ⋮ & ⋮ & ⋮ & ⋮ & ⋮ & ⋮ & ⋮\\\\\n",
       "\t Chinstrap & Dream     & 51.5 & 18.7 & 187 & 3250 & male   & 2009\\\\\n",
       "\t Chinstrap & Dream     & 45.2 & 16.6 & 191 & 3250 & female & 2009\\\\\n",
       "\t Adelie    & Torgersen & 41.1 & 17.6 & 182 & 3200 & female & 2007\\\\\n",
       "\t Adelie    & Biscoe    & 40.5 & 17.9 & 187 & 3200 & female & 2007\\\\\n",
       "\t Adelie    & Torgersen & 34.6 & 17.2 & 189 & 3200 & female & 2008\\\\\n",
       "\t Adelie    & Biscoe    & 39.7 & 17.7 & 193 & 3200 & female & 2009\\\\\n",
       "\t Chinstrap & Dream     & 40.9 & 16.6 & 187 & 3200 & female & 2008\\\\\n",
       "\t Adelie    & Biscoe    & 38.1 & 17.0 & 181 & 3175 & female & 2009\\\\\n",
       "\t Adelie    & Dream     & 35.6 & 17.5 & 191 & 3175 & female & 2009\\\\\n",
       "\t Adelie    & Biscoe    & 37.9 & 18.6 & 172 & 3150 & female & 2007\\\\\n",
       "\t Adelie    & Dream     & 36.5 & 18.0 & 182 & 3150 & female & 2007\\\\\n",
       "\t Adelie    & Biscoe    & 35.7 & 16.9 & 185 & 3150 & female & 2008\\\\\n",
       "\t Adelie    & Torgersen & 36.2 & 17.2 & 187 & 3150 & female & 2009\\\\\n",
       "\t Adelie    & Dream     & 36.0 & 18.5 & 186 & 3100 & female & 2007\\\\\n",
       "\t Adelie    & Biscoe    & 37.7 & 16.0 & 183 & 3075 & female & 2009\\\\\n",
       "\t Adelie    & Torgersen & 35.9 & 16.6 & 190 & 3050 & female & 2008\\\\\n",
       "\t Adelie    & Torgersen & 35.2 & 15.9 & 186 & 3050 & female & 2009\\\\\n",
       "\t Adelie    & Torgersen & 39.0 & 17.1 & 191 & 3050 & female & 2009\\\\\n",
       "\t Adelie    & Dream     & 32.1 & 15.5 & 188 & 3050 & female & 2009\\\\\n",
       "\t Adelie    & Dream     & 37.0 & 16.9 & 185 & 3000 & female & 2007\\\\\n",
       "\t Adelie    & Dream     & 37.3 & 16.8 & 192 & 3000 & female & 2009\\\\\n",
       "\t Adelie    & Dream     & 37.5 & 18.9 & 179 & 2975 & NA     & 2007\\\\\n",
       "\t Adelie    & Biscoe    & 37.9 & 18.6 & 193 & 2925 & female & 2009\\\\\n",
       "\t Adelie    & Biscoe    & 34.5 & 18.1 & 187 & 2900 & female & 2008\\\\\n",
       "\t Adelie    & Dream     & 33.1 & 16.1 & 178 & 2900 & female & 2008\\\\\n",
       "\t Adelie    & Torgersen & 38.6 & 17.0 & 188 & 2900 & female & 2009\\\\\n",
       "\t Chinstrap & Dream     & 43.2 & 16.6 & 187 & 2900 & female & 2007\\\\\n",
       "\t Adelie    & Biscoe    & 36.5 & 16.6 & 181 & 2850 & female & 2008\\\\\n",
       "\t Adelie    & Biscoe    & 36.4 & 17.1 & 184 & 2850 & female & 2008\\\\\n",
       "\t Chinstrap & Dream     & 46.9 & 16.6 & 192 & 2700 & female & 2008\\\\\n",
       "\\end{tabular}\n"
      ],
      "text/markdown": [
       "\n",
       "A grouped_df: 183 × 8\n",
       "\n",
       "| species &lt;fct&gt; | island &lt;fct&gt; | bill_length_mm &lt;dbl&gt; | bill_depth_mm &lt;dbl&gt; | flipper_length_mm &lt;int&gt; | body_mass_g &lt;int&gt; | sex &lt;fct&gt; | year &lt;int&gt; |\n",
       "|---|---|---|---|---|---|---|---|\n",
       "| Gentoo | Biscoe | 46.3 | 15.8 | 215 | 5050 | male   | 2007 |\n",
       "| Gentoo | Biscoe | 45.1 | 14.5 | 207 | 5050 | female | 2007 |\n",
       "| Gentoo | Biscoe | 45.0 | 15.4 | 220 | 5050 | male   | 2008 |\n",
       "| Gentoo | Biscoe | 45.1 | 14.5 | 215 | 5000 | female | 2007 |\n",
       "| Gentoo | Biscoe | 42.9 | 13.1 | 215 | 5000 | female | 2007 |\n",
       "| Gentoo | Biscoe | 50.1 | 15.0 | 225 | 5000 | male   | 2008 |\n",
       "| Gentoo | Biscoe | 45.5 | 15.0 | 220 | 5000 | male   | 2008 |\n",
       "| Gentoo | Biscoe | 46.4 | 15.6 | 221 | 5000 | male   | 2008 |\n",
       "| Gentoo | Biscoe | 50.5 | 15.2 | 216 | 5000 | female | 2009 |\n",
       "| Gentoo | Biscoe | 47.2 | 15.5 | 215 | 4975 | female | 2009 |\n",
       "| Gentoo | Biscoe | 42.6 | 13.7 | 213 | 4950 | female | 2008 |\n",
       "| Gentoo | Biscoe | 47.5 | 15.0 | 218 | 4950 | female | 2009 |\n",
       "| Gentoo | Biscoe | 49.4 | 15.8 | 216 | 4925 | male   | 2009 |\n",
       "| Gentoo | Biscoe | 47.2 | 13.7 | 214 | 4925 | female | 2009 |\n",
       "| Gentoo | Biscoe | 43.6 | 13.9 | 217 | 4900 | female | 2008 |\n",
       "| Gentoo | Biscoe | 46.5 | 14.4 | 217 | 4900 | female | 2008 |\n",
       "| Gentoo | Biscoe | 47.5 | 14.0 | 212 | 4875 | female | 2009 |\n",
       "| Gentoo | Biscoe | 46.9 | 14.6 | 222 | 4875 | female | 2009 |\n",
       "| Gentoo | Biscoe | 44.5 | 15.7 | 217 | 4875 | NA     | 2009 |\n",
       "| Gentoo | Biscoe | 46.6 | 14.2 | 210 | 4850 | female | 2008 |\n",
       "| Gentoo | Biscoe | 44.5 | 14.7 | 214 | 4850 | female | 2009 |\n",
       "| Gentoo | Biscoe | 48.5 | 15.0 | 219 | 4850 | female | 2009 |\n",
       "| Gentoo | Biscoe | 46.8 | 14.3 | 215 | 4850 | female | 2009 |\n",
       "| Gentoo | Biscoe | 45.4 | 14.6 | 211 | 4800 | female | 2007 |\n",
       "| Gentoo | Biscoe | 46.2 | 14.5 | 209 | 4800 | female | 2007 |\n",
       "| Gentoo | Biscoe | 49.6 | 15.0 | 216 | 4750 | male   | 2008 |\n",
       "| Gentoo | Biscoe | 47.7 | 15.0 | 216 | 4750 | female | 2008 |\n",
       "| Gentoo | Biscoe | 45.2 | 13.8 | 215 | 4750 | female | 2008 |\n",
       "| Gentoo | Biscoe | 44.9 | 13.8 | 212 | 4750 | female | 2009 |\n",
       "| Gentoo | Biscoe | 45.5 | 14.5 | 212 | 4750 | female | 2009 |\n",
       "| ⋮ | ⋮ | ⋮ | ⋮ | ⋮ | ⋮ | ⋮ | ⋮ |\n",
       "| Chinstrap | Dream     | 51.5 | 18.7 | 187 | 3250 | male   | 2009 |\n",
       "| Chinstrap | Dream     | 45.2 | 16.6 | 191 | 3250 | female | 2009 |\n",
       "| Adelie    | Torgersen | 41.1 | 17.6 | 182 | 3200 | female | 2007 |\n",
       "| Adelie    | Biscoe    | 40.5 | 17.9 | 187 | 3200 | female | 2007 |\n",
       "| Adelie    | Torgersen | 34.6 | 17.2 | 189 | 3200 | female | 2008 |\n",
       "| Adelie    | Biscoe    | 39.7 | 17.7 | 193 | 3200 | female | 2009 |\n",
       "| Chinstrap | Dream     | 40.9 | 16.6 | 187 | 3200 | female | 2008 |\n",
       "| Adelie    | Biscoe    | 38.1 | 17.0 | 181 | 3175 | female | 2009 |\n",
       "| Adelie    | Dream     | 35.6 | 17.5 | 191 | 3175 | female | 2009 |\n",
       "| Adelie    | Biscoe    | 37.9 | 18.6 | 172 | 3150 | female | 2007 |\n",
       "| Adelie    | Dream     | 36.5 | 18.0 | 182 | 3150 | female | 2007 |\n",
       "| Adelie    | Biscoe    | 35.7 | 16.9 | 185 | 3150 | female | 2008 |\n",
       "| Adelie    | Torgersen | 36.2 | 17.2 | 187 | 3150 | female | 2009 |\n",
       "| Adelie    | Dream     | 36.0 | 18.5 | 186 | 3100 | female | 2007 |\n",
       "| Adelie    | Biscoe    | 37.7 | 16.0 | 183 | 3075 | female | 2009 |\n",
       "| Adelie    | Torgersen | 35.9 | 16.6 | 190 | 3050 | female | 2008 |\n",
       "| Adelie    | Torgersen | 35.2 | 15.9 | 186 | 3050 | female | 2009 |\n",
       "| Adelie    | Torgersen | 39.0 | 17.1 | 191 | 3050 | female | 2009 |\n",
       "| Adelie    | Dream     | 32.1 | 15.5 | 188 | 3050 | female | 2009 |\n",
       "| Adelie    | Dream     | 37.0 | 16.9 | 185 | 3000 | female | 2007 |\n",
       "| Adelie    | Dream     | 37.3 | 16.8 | 192 | 3000 | female | 2009 |\n",
       "| Adelie    | Dream     | 37.5 | 18.9 | 179 | 2975 | NA     | 2007 |\n",
       "| Adelie    | Biscoe    | 37.9 | 18.6 | 193 | 2925 | female | 2009 |\n",
       "| Adelie    | Biscoe    | 34.5 | 18.1 | 187 | 2900 | female | 2008 |\n",
       "| Adelie    | Dream     | 33.1 | 16.1 | 178 | 2900 | female | 2008 |\n",
       "| Adelie    | Torgersen | 38.6 | 17.0 | 188 | 2900 | female | 2009 |\n",
       "| Chinstrap | Dream     | 43.2 | 16.6 | 187 | 2900 | female | 2007 |\n",
       "| Adelie    | Biscoe    | 36.5 | 16.6 | 181 | 2850 | female | 2008 |\n",
       "| Adelie    | Biscoe    | 36.4 | 17.1 | 184 | 2850 | female | 2008 |\n",
       "| Chinstrap | Dream     | 46.9 | 16.6 | 192 | 2700 | female | 2008 |\n",
       "\n"
      ],
      "text/plain": [
       "    species   island    bill_length_mm bill_depth_mm flipper_length_mm\n",
       "1   Gentoo    Biscoe    46.3           15.8          215              \n",
       "2   Gentoo    Biscoe    45.1           14.5          207              \n",
       "3   Gentoo    Biscoe    45.0           15.4          220              \n",
       "4   Gentoo    Biscoe    45.1           14.5          215              \n",
       "5   Gentoo    Biscoe    42.9           13.1          215              \n",
       "6   Gentoo    Biscoe    50.1           15.0          225              \n",
       "7   Gentoo    Biscoe    45.5           15.0          220              \n",
       "8   Gentoo    Biscoe    46.4           15.6          221              \n",
       "9   Gentoo    Biscoe    50.5           15.2          216              \n",
       "10  Gentoo    Biscoe    47.2           15.5          215              \n",
       "11  Gentoo    Biscoe    42.6           13.7          213              \n",
       "12  Gentoo    Biscoe    47.5           15.0          218              \n",
       "13  Gentoo    Biscoe    49.4           15.8          216              \n",
       "14  Gentoo    Biscoe    47.2           13.7          214              \n",
       "15  Gentoo    Biscoe    43.6           13.9          217              \n",
       "16  Gentoo    Biscoe    46.5           14.4          217              \n",
       "17  Gentoo    Biscoe    47.5           14.0          212              \n",
       "18  Gentoo    Biscoe    46.9           14.6          222              \n",
       "19  Gentoo    Biscoe    44.5           15.7          217              \n",
       "20  Gentoo    Biscoe    46.6           14.2          210              \n",
       "21  Gentoo    Biscoe    44.5           14.7          214              \n",
       "22  Gentoo    Biscoe    48.5           15.0          219              \n",
       "23  Gentoo    Biscoe    46.8           14.3          215              \n",
       "24  Gentoo    Biscoe    45.4           14.6          211              \n",
       "25  Gentoo    Biscoe    46.2           14.5          209              \n",
       "26  Gentoo    Biscoe    49.6           15.0          216              \n",
       "27  Gentoo    Biscoe    47.7           15.0          216              \n",
       "28  Gentoo    Biscoe    45.2           13.8          215              \n",
       "29  Gentoo    Biscoe    44.9           13.8          212              \n",
       "30  Gentoo    Biscoe    45.5           14.5          212              \n",
       "⋮   ⋮         ⋮         ⋮              ⋮             ⋮                \n",
       "154 Chinstrap Dream     51.5           18.7          187              \n",
       "155 Chinstrap Dream     45.2           16.6          191              \n",
       "156 Adelie    Torgersen 41.1           17.6          182              \n",
       "157 Adelie    Biscoe    40.5           17.9          187              \n",
       "158 Adelie    Torgersen 34.6           17.2          189              \n",
       "159 Adelie    Biscoe    39.7           17.7          193              \n",
       "160 Chinstrap Dream     40.9           16.6          187              \n",
       "161 Adelie    Biscoe    38.1           17.0          181              \n",
       "162 Adelie    Dream     35.6           17.5          191              \n",
       "163 Adelie    Biscoe    37.9           18.6          172              \n",
       "164 Adelie    Dream     36.5           18.0          182              \n",
       "165 Adelie    Biscoe    35.7           16.9          185              \n",
       "166 Adelie    Torgersen 36.2           17.2          187              \n",
       "167 Adelie    Dream     36.0           18.5          186              \n",
       "168 Adelie    Biscoe    37.7           16.0          183              \n",
       "169 Adelie    Torgersen 35.9           16.6          190              \n",
       "170 Adelie    Torgersen 35.2           15.9          186              \n",
       "171 Adelie    Torgersen 39.0           17.1          191              \n",
       "172 Adelie    Dream     32.1           15.5          188              \n",
       "173 Adelie    Dream     37.0           16.9          185              \n",
       "174 Adelie    Dream     37.3           16.8          192              \n",
       "175 Adelie    Dream     37.5           18.9          179              \n",
       "176 Adelie    Biscoe    37.9           18.6          193              \n",
       "177 Adelie    Biscoe    34.5           18.1          187              \n",
       "178 Adelie    Dream     33.1           16.1          178              \n",
       "179 Adelie    Torgersen 38.6           17.0          188              \n",
       "180 Chinstrap Dream     43.2           16.6          187              \n",
       "181 Adelie    Biscoe    36.5           16.6          181              \n",
       "182 Adelie    Biscoe    36.4           17.1          184              \n",
       "183 Chinstrap Dream     46.9           16.6          192              \n",
       "    body_mass_g sex    year\n",
       "1   5050        male   2007\n",
       "2   5050        female 2007\n",
       "3   5050        male   2008\n",
       "4   5000        female 2007\n",
       "5   5000        female 2007\n",
       "6   5000        male   2008\n",
       "7   5000        male   2008\n",
       "8   5000        male   2008\n",
       "9   5000        female 2009\n",
       "10  4975        female 2009\n",
       "11  4950        female 2008\n",
       "12  4950        female 2009\n",
       "13  4925        male   2009\n",
       "14  4925        female 2009\n",
       "15  4900        female 2008\n",
       "16  4900        female 2008\n",
       "17  4875        female 2009\n",
       "18  4875        female 2009\n",
       "19  4875        NA     2009\n",
       "20  4850        female 2008\n",
       "21  4850        female 2009\n",
       "22  4850        female 2009\n",
       "23  4850        female 2009\n",
       "24  4800        female 2007\n",
       "25  4800        female 2007\n",
       "26  4750        male   2008\n",
       "27  4750        female 2008\n",
       "28  4750        female 2008\n",
       "29  4750        female 2009\n",
       "30  4750        female 2009\n",
       "⋮   ⋮           ⋮      ⋮   \n",
       "154 3250        male   2009\n",
       "155 3250        female 2009\n",
       "156 3200        female 2007\n",
       "157 3200        female 2007\n",
       "158 3200        female 2008\n",
       "159 3200        female 2009\n",
       "160 3200        female 2008\n",
       "161 3175        female 2009\n",
       "162 3175        female 2009\n",
       "163 3150        female 2007\n",
       "164 3150        female 2007\n",
       "165 3150        female 2008\n",
       "166 3150        female 2009\n",
       "167 3100        female 2007\n",
       "168 3075        female 2009\n",
       "169 3050        female 2008\n",
       "170 3050        female 2009\n",
       "171 3050        female 2009\n",
       "172 3050        female 2009\n",
       "173 3000        female 2007\n",
       "174 3000        female 2009\n",
       "175 2975        NA     2007\n",
       "176 2925        female 2009\n",
       "177 2900        female 2008\n",
       "178 2900        female 2008\n",
       "179 2900        female 2009\n",
       "180 2900        female 2007\n",
       "181 2850        female 2008\n",
       "182 2850        female 2008\n",
       "183 2700        female 2008"
      ]
     },
     "metadata": {},
     "output_type": "display_data"
    }
   ],
   "source": [
    "penguins %>%\n",
    "  group_by(species) %>%\n",
    "    filter(body_mass_g < mean(body_mass_g, na.rm=TRUE)) %>%\n",
    "      arrange(desc(body_mass_g))"
   ]
  },
  {
   "cell_type": "markdown",
   "metadata": {},
   "source": [
    "Here, we see that the penguins having body mass less than the average of their species are sorted in descending order by their body mass. By default, the arrange function sorts the dataset in ascending order. However, because we have added the desc() parameter, our dataset is arranged in descending order."
   ]
  },
  {
   "cell_type": "code",
   "execution_count": 15,
   "metadata": {
    "vscode": {
     "languageId": "r"
    }
   },
   "outputs": [
    {
     "name": "stderr",
     "output_type": "stream",
     "text": [
      "Warning message:\n",
      "\"package 'ggplot2' is in use and will not be installed\"\n"
     ]
    }
   ],
   "source": [
    "install.packages(\"ggplot2\")\n",
    "library(ggplot2)"
   ]
  },
  {
   "cell_type": "code",
   "execution_count": 16,
   "metadata": {
    "vscode": {
     "languageId": "r"
    }
   },
   "outputs": [
    {
     "name": "stderr",
     "output_type": "stream",
     "text": [
      "Warning message:\n",
      "\"\u001b[1m\u001b[22mRemoved 2 rows containing missing values or values outside the scale range\n",
      "(`geom_point()`).\"\n"
     ]
    },
    {
     "data": {
      "image/png": "[encoded data removed]",
      "text/plain": [
       "plot without title"
      ]
     },
     "metadata": {
      "image/png": {
       "height": 420,
       "width": 420
      }
     },
     "output_type": "display_data"
    }
   ],
   "source": [
    "ggplot(penguins, aes(x = body_mass_g, y=flipper_length_mm)) +\n",
    "geom_point()"
   ]
  }
 ],
 "metadata": {
  "kernelspec": {
   "display_name": "R",
   "language": "R",
   "name": "ir"
  },
  "language_info": {
   "codemirror_mode": "r",
   "file_extension": ".r",
   "mimetype": "text/x-r-source",
   "name": "R",
   "pygments_lexer": "r",
   "version": "4.4.1"
  }
 },
 "nbformat": 4,
 "nbformat_minor": 2
}
