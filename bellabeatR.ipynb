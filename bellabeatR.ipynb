{
 "cells": [
  {
   "cell_type": "code",
   "execution_count": 1,
   "metadata": {
    "vscode": {
     "languageId": "r"
    }
   },
   "outputs": [
    {
     "name": "stderr",
     "output_type": "stream",
     "text": [
      "Installing packages into 'C:/Users/keith/AppData/Local/R/win-library/4.4'\n",
      "(as 'lib' is unspecified)\n",
      "\n"
     ]
    },
    {
     "name": "stdout",
     "output_type": "stream",
     "text": [
      "package 'tidyverse' successfully unpacked and MD5 sums checked\n",
      "package 'readxl' successfully unpacked and MD5 sums checked\n"
     ]
    },
    {
     "name": "stderr",
     "output_type": "stream",
     "text": [
      "Warning message:\n",
      "\"cannot remove prior installation of package 'readxl'\"\n",
      "Warning message in file.copy(savedcopy, lib, recursive = TRUE):\n",
      "\"problem copying C:\\Users\\keith\\AppData\\Local\\R\\win-library\\4.4\\00LOCK\\readxl\\libs\\x64\\readxl.dll to C:\\Users\\keith\\AppData\\Local\\R\\win-library\\4.4\\readxl\\libs\\x64\\readxl.dll: Permission denied\"\n",
      "Warning message:\n",
      "\"restored 'readxl'\"\n"
     ]
    },
    {
     "name": "stdout",
     "output_type": "stream",
     "text": [
      "package 'lubridate' successfully unpacked and MD5 sums checked\n"
     ]
    },
    {
     "name": "stderr",
     "output_type": "stream",
     "text": [
      "Warning message:\n",
      "\"cannot remove prior installation of package 'lubridate'\"\n",
      "Warning message in file.copy(savedcopy, lib, recursive = TRUE):\n",
      "\"problem copying C:\\Users\\keith\\AppData\\Local\\R\\win-library\\4.4\\00LOCK\\lubridate\\libs\\x64\\lubridate.dll to C:\\Users\\keith\\AppData\\Local\\R\\win-library\\4.4\\lubridate\\libs\\x64\\lubridate.dll: Permission denied\"\n",
      "Warning message:\n",
      "\"restored 'lubridate'\"\n"
     ]
    },
    {
     "name": "stdout",
     "output_type": "stream",
     "text": [
      "\n",
      "The downloaded binary packages are in\n",
      "\tC:\\Users\\keith\\AppData\\Local\\Temp\\RtmpEtJkK7\\downloaded_packages\n"
     ]
    },
    {
     "name": "stderr",
     "output_type": "stream",
     "text": [
      "Installing package into 'C:/Users/keith/AppData/Local/R/win-library/4.4'\n",
      "(as 'lib' is unspecified)\n",
      "\n"
     ]
    },
    {
     "name": "stdout",
     "output_type": "stream",
     "text": [
      "package 'ggpmisc' successfully unpacked and MD5 sums checked\n",
      "\n",
      "The downloaded binary packages are in\n",
      "\tC:\\Users\\keith\\AppData\\Local\\Temp\\RtmpEtJkK7\\downloaded_packages\n"
     ]
    },
    {
     "name": "stderr",
     "output_type": "stream",
     "text": [
      "── \u001b[1mAttaching core tidyverse packages\u001b[22m ──────────────────────── tidyverse 2.0.0 ──\n",
      "\u001b[32m✔\u001b[39m \u001b[34mdplyr    \u001b[39m 1.1.4     \u001b[32m✔\u001b[39m \u001b[34mreadr    \u001b[39m 2.1.5\n",
      "\u001b[32m✔\u001b[39m \u001b[34mforcats  \u001b[39m 1.0.0     \u001b[32m✔\u001b[39m \u001b[34mstringr  \u001b[39m 1.5.1\n",
      "\u001b[32m✔\u001b[39m \u001b[34mggplot2  \u001b[39m 3.5.1     \u001b[32m✔\u001b[39m \u001b[34mtibble   \u001b[39m 3.2.1\n",
      "\u001b[32m✔\u001b[39m \u001b[34mlubridate\u001b[39m 1.9.3     \u001b[32m✔\u001b[39m \u001b[34mtidyr    \u001b[39m 1.3.1\n",
      "\u001b[32m✔\u001b[39m \u001b[34mpurrr    \u001b[39m 1.0.2     \n",
      "── \u001b[1mConflicts\u001b[22m ────────────────────────────────────────── tidyverse_conflicts() ──\n",
      "\u001b[31m✖\u001b[39m \u001b[34mdplyr\u001b[39m::\u001b[32mfilter()\u001b[39m masks \u001b[34mstats\u001b[39m::filter()\n",
      "\u001b[31m✖\u001b[39m \u001b[34mdplyr\u001b[39m::\u001b[32mlag()\u001b[39m    masks \u001b[34mstats\u001b[39m::lag()\n",
      "\u001b[36mℹ\u001b[39m Use the conflicted package (\u001b[3m\u001b[34m<http://conflicted.r-lib.org/>\u001b[39m\u001b[23m) to force all conflicts to become errors\n",
      "Loading required package: ggpp\n",
      "\n",
      "Registered S3 methods overwritten by 'ggpp':\n",
      "  method                  from   \n",
      "  heightDetails.titleGrob ggplot2\n",
      "  widthDetails.titleGrob  ggplot2\n",
      "\n",
      "\n",
      "Attaching package: 'ggpp'\n",
      "\n",
      "\n",
      "The following object is masked from 'package:ggplot2':\n",
      "\n",
      "    annotate\n",
      "\n",
      "\n"
     ]
    }
   ],
   "source": [
    "\n",
    "install.packages(c(\"tidyverse\", \"readxl\", \"lubridate\"))\n",
    "\n",
    "\n",
    "install.packages(\"ggpmisc\")\n",
    "\n",
    "\n",
    "library(tidyverse)\n",
    "library(readxl)\n",
    "library(lubridate)\n",
    "library(ggpmisc)\n"
   ]
  },
  {
   "cell_type": "code",
   "execution_count": 2,
   "metadata": {
    "vscode": {
     "languageId": "r"
    }
   },
   "outputs": [],
   "source": [
    "sleep<- read.csv('sleep.csv')\n",
    "daily<-read.csv('daily.csv')\n"
   ]
  },
  {
   "cell_type": "code",
   "execution_count": 3,
   "metadata": {
    "vscode": {
     "languageId": "r"
    }
   },
   "outputs": [
    {
     "name": "stdout",
     "output_type": "stream",
     "text": [
      "'data.frame':\t457 obs. of  15 variables:\n",
      " $ Id                      : num  1.5e+09 1.5e+09 1.5e+09 1.5e+09 1.5e+09 ...\n",
      " $ ActivityDate            : chr  \"3/25/2016\" \"3/26/2016\" \"3/27/2016\" \"3/28/2016\" ...\n",
      " $ TotalSteps              : int  11004 17609 12736 13231 12041 10970 12256 12262 11248 10016 ...\n",
      " $ TotalDistance           : num  7.11 11.55 8.53 8.93 7.85 ...\n",
      " $ TrackerDistance         : num  7.11 11.55 8.53 8.93 7.85 ...\n",
      " $ LoggedActivitiesDistance: num  0 0 0 0 0 0 0 0 0 0 ...\n",
      " $ VeryActiveDistance      : num  2.57 6.92 4.66 3.19 2.16 ...\n",
      " $ ModeratelyActiveDistance: num  0.46 0.73 0.16 0.79 1.09 ...\n",
      " $ LightActiveDistance     : num  4.07 3.91 3.71 4.95 4.61 ...\n",
      " $ SedentaryActiveDistance : num  0 0 0 0 0 0 0 0 0 0 ...\n",
      " $ VeryActiveMinutes       : int  33 89 56 39 28 30 33 47 40 15 ...\n",
      " $ FairlyActiveMinutes     : int  12 17 5 20 28 13 12 21 11 30 ...\n",
      " $ LightlyActiveMinutes    : int  205 274 268 224 243 223 239 200 244 314 ...\n",
      " $ SedentaryMinutes        : int  804 588 605 1080 763 1174 820 866 636 655 ...\n",
      " $ Calories                : int  1819 2154 1944 1932 1886 1820 1889 1868 1843 1850 ...\n"
     ]
    },
    {
     "data": {
      "text/html": [
       "<table class=\"dataframe\">\n",
       "<caption>A data.frame: 6 × 15</caption>\n",
       "<thead>\n",
       "\t<tr><th></th><th scope=col>Id</th><th scope=col>ActivityDate</th><th scope=col>TotalSteps</th><th scope=col>TotalDistance</th><th scope=col>TrackerDistance</th><th scope=col>LoggedActivitiesDistance</th><th scope=col>VeryActiveDistance</th><th scope=col>ModeratelyActiveDistance</th><th scope=col>LightActiveDistance</th><th scope=col>SedentaryActiveDistance</th><th scope=col>VeryActiveMinutes</th><th scope=col>FairlyActiveMinutes</th><th scope=col>LightlyActiveMinutes</th><th scope=col>SedentaryMinutes</th><th scope=col>Calories</th></tr>\n",
       "\t<tr><th></th><th scope=col>&lt;dbl&gt;</th><th scope=col>&lt;chr&gt;</th><th scope=col>&lt;int&gt;</th><th scope=col>&lt;dbl&gt;</th><th scope=col>&lt;dbl&gt;</th><th scope=col>&lt;dbl&gt;</th><th scope=col>&lt;dbl&gt;</th><th scope=col>&lt;dbl&gt;</th><th scope=col>&lt;dbl&gt;</th><th scope=col>&lt;dbl&gt;</th><th scope=col>&lt;int&gt;</th><th scope=col>&lt;int&gt;</th><th scope=col>&lt;int&gt;</th><th scope=col>&lt;int&gt;</th><th scope=col>&lt;int&gt;</th></tr>\n",
       "</thead>\n",
       "<tbody>\n",
       "\t<tr><th scope=row>1</th><td>1503960366</td><td>3/25/2016</td><td>11004</td><td> 7.11</td><td> 7.11</td><td>0</td><td>2.57</td><td>0.46</td><td>4.07</td><td>0</td><td>33</td><td>12</td><td>205</td><td> 804</td><td>1819</td></tr>\n",
       "\t<tr><th scope=row>2</th><td>1503960366</td><td>3/26/2016</td><td>17609</td><td>11.55</td><td>11.55</td><td>0</td><td>6.92</td><td>0.73</td><td>3.91</td><td>0</td><td>89</td><td>17</td><td>274</td><td> 588</td><td>2154</td></tr>\n",
       "\t<tr><th scope=row>3</th><td>1503960366</td><td>3/27/2016</td><td>12736</td><td> 8.53</td><td> 8.53</td><td>0</td><td>4.66</td><td>0.16</td><td>3.71</td><td>0</td><td>56</td><td> 5</td><td>268</td><td> 605</td><td>1944</td></tr>\n",
       "\t<tr><th scope=row>4</th><td>1503960366</td><td>3/28/2016</td><td>13231</td><td> 8.93</td><td> 8.93</td><td>0</td><td>3.19</td><td>0.79</td><td>4.95</td><td>0</td><td>39</td><td>20</td><td>224</td><td>1080</td><td>1932</td></tr>\n",
       "\t<tr><th scope=row>5</th><td>1503960366</td><td>3/29/2016</td><td>12041</td><td> 7.85</td><td> 7.85</td><td>0</td><td>2.16</td><td>1.09</td><td>4.61</td><td>0</td><td>28</td><td>28</td><td>243</td><td> 763</td><td>1886</td></tr>\n",
       "\t<tr><th scope=row>6</th><td>1503960366</td><td>3/30/2016</td><td>10970</td><td> 7.16</td><td> 7.16</td><td>0</td><td>2.36</td><td>0.51</td><td>4.29</td><td>0</td><td>30</td><td>13</td><td>223</td><td>1174</td><td>1820</td></tr>\n",
       "</tbody>\n",
       "</table>\n"
      ],
      "text/latex": [
       "A data.frame: 6 × 15\n",
       "\\begin{tabular}{r|lllllllllllllll}\n",
       "  & Id & ActivityDate & TotalSteps & TotalDistance & TrackerDistance & LoggedActivitiesDistance & VeryActiveDistance & ModeratelyActiveDistance & LightActiveDistance & SedentaryActiveDistance & VeryActiveMinutes & FairlyActiveMinutes & LightlyActiveMinutes & SedentaryMinutes & Calories\\\\\n",
       "  & <dbl> & <chr> & <int> & <dbl> & <dbl> & <dbl> & <dbl> & <dbl> & <dbl> & <dbl> & <int> & <int> & <int> & <int> & <int>\\\\\n",
       "\\hline\n",
       "\t1 & 1503960366 & 3/25/2016 & 11004 &  7.11 &  7.11 & 0 & 2.57 & 0.46 & 4.07 & 0 & 33 & 12 & 205 &  804 & 1819\\\\\n",
       "\t2 & 1503960366 & 3/26/2016 & 17609 & 11.55 & 11.55 & 0 & 6.92 & 0.73 & 3.91 & 0 & 89 & 17 & 274 &  588 & 2154\\\\\n",
       "\t3 & 1503960366 & 3/27/2016 & 12736 &  8.53 &  8.53 & 0 & 4.66 & 0.16 & 3.71 & 0 & 56 &  5 & 268 &  605 & 1944\\\\\n",
       "\t4 & 1503960366 & 3/28/2016 & 13231 &  8.93 &  8.93 & 0 & 3.19 & 0.79 & 4.95 & 0 & 39 & 20 & 224 & 1080 & 1932\\\\\n",
       "\t5 & 1503960366 & 3/29/2016 & 12041 &  7.85 &  7.85 & 0 & 2.16 & 1.09 & 4.61 & 0 & 28 & 28 & 243 &  763 & 1886\\\\\n",
       "\t6 & 1503960366 & 3/30/2016 & 10970 &  7.16 &  7.16 & 0 & 2.36 & 0.51 & 4.29 & 0 & 30 & 13 & 223 & 1174 & 1820\\\\\n",
       "\\end{tabular}\n"
      ],
      "text/markdown": [
       "\n",
       "A data.frame: 6 × 15\n",
       "\n",
       "| <!--/--> | Id &lt;dbl&gt; | ActivityDate &lt;chr&gt; | TotalSteps &lt;int&gt; | TotalDistance &lt;dbl&gt; | TrackerDistance &lt;dbl&gt; | LoggedActivitiesDistance &lt;dbl&gt; | VeryActiveDistance &lt;dbl&gt; | ModeratelyActiveDistance &lt;dbl&gt; | LightActiveDistance &lt;dbl&gt; | SedentaryActiveDistance &lt;dbl&gt; | VeryActiveMinutes &lt;int&gt; | FairlyActiveMinutes &lt;int&gt; | LightlyActiveMinutes &lt;int&gt; | SedentaryMinutes &lt;int&gt; | Calories &lt;int&gt; |\n",
       "|---|---|---|---|---|---|---|---|---|---|---|---|---|---|---|---|\n",
       "| 1 | 1503960366 | 3/25/2016 | 11004 |  7.11 |  7.11 | 0 | 2.57 | 0.46 | 4.07 | 0 | 33 | 12 | 205 |  804 | 1819 |\n",
       "| 2 | 1503960366 | 3/26/2016 | 17609 | 11.55 | 11.55 | 0 | 6.92 | 0.73 | 3.91 | 0 | 89 | 17 | 274 |  588 | 2154 |\n",
       "| 3 | 1503960366 | 3/27/2016 | 12736 |  8.53 |  8.53 | 0 | 4.66 | 0.16 | 3.71 | 0 | 56 |  5 | 268 |  605 | 1944 |\n",
       "| 4 | 1503960366 | 3/28/2016 | 13231 |  8.93 |  8.93 | 0 | 3.19 | 0.79 | 4.95 | 0 | 39 | 20 | 224 | 1080 | 1932 |\n",
       "| 5 | 1503960366 | 3/29/2016 | 12041 |  7.85 |  7.85 | 0 | 2.16 | 1.09 | 4.61 | 0 | 28 | 28 | 243 |  763 | 1886 |\n",
       "| 6 | 1503960366 | 3/30/2016 | 10970 |  7.16 |  7.16 | 0 | 2.36 | 0.51 | 4.29 | 0 | 30 | 13 | 223 | 1174 | 1820 |\n",
       "\n"
      ],
      "text/plain": [
       "  Id         ActivityDate TotalSteps TotalDistance TrackerDistance\n",
       "1 1503960366 3/25/2016    11004       7.11          7.11          \n",
       "2 1503960366 3/26/2016    17609      11.55         11.55          \n",
       "3 1503960366 3/27/2016    12736       8.53          8.53          \n",
       "4 1503960366 3/28/2016    13231       8.93          8.93          \n",
       "5 1503960366 3/29/2016    12041       7.85          7.85          \n",
       "6 1503960366 3/30/2016    10970       7.16          7.16          \n",
       "  LoggedActivitiesDistance VeryActiveDistance ModeratelyActiveDistance\n",
       "1 0                        2.57               0.46                    \n",
       "2 0                        6.92               0.73                    \n",
       "3 0                        4.66               0.16                    \n",
       "4 0                        3.19               0.79                    \n",
       "5 0                        2.16               1.09                    \n",
       "6 0                        2.36               0.51                    \n",
       "  LightActiveDistance SedentaryActiveDistance VeryActiveMinutes\n",
       "1 4.07                0                       33               \n",
       "2 3.91                0                       89               \n",
       "3 3.71                0                       56               \n",
       "4 4.95                0                       39               \n",
       "5 4.61                0                       28               \n",
       "6 4.29                0                       30               \n",
       "  FairlyActiveMinutes LightlyActiveMinutes SedentaryMinutes Calories\n",
       "1 12                  205                   804             1819    \n",
       "2 17                  274                   588             2154    \n",
       "3  5                  268                   605             1944    \n",
       "4 20                  224                  1080             1932    \n",
       "5 28                  243                   763             1886    \n",
       "6 13                  223                  1174             1820    "
      ]
     },
     "metadata": {},
     "output_type": "display_data"
    },
    {
     "name": "stdout",
     "output_type": "stream",
     "text": [
      "'data.frame':\t413 obs. of  5 variables:\n",
      " $ Id                : num  1.5e+09 1.5e+09 1.5e+09 1.5e+09 1.5e+09 ...\n",
      " $ SleepDay          : chr  \"4/12/2016 12:00:00 AM\" \"4/13/2016 12:00:00 AM\" \"4/15/2016 12:00:00 AM\" \"4/16/2016 12:00:00 AM\" ...\n",
      " $ TotalSleepRecords : int  1 2 1 2 1 1 1 1 1 1 ...\n",
      " $ TotalMinutesAsleep: int  327 384 412 340 700 304 360 325 361 430 ...\n",
      " $ TotalTimeInBed    : int  346 407 442 367 712 320 377 364 384 449 ...\n"
     ]
    },
    {
     "data": {
      "text/html": [
       "<table class=\"dataframe\">\n",
       "<caption>A data.frame: 6 × 5</caption>\n",
       "<thead>\n",
       "\t<tr><th></th><th scope=col>Id</th><th scope=col>SleepDay</th><th scope=col>TotalSleepRecords</th><th scope=col>TotalMinutesAsleep</th><th scope=col>TotalTimeInBed</th></tr>\n",
       "\t<tr><th></th><th scope=col>&lt;dbl&gt;</th><th scope=col>&lt;chr&gt;</th><th scope=col>&lt;int&gt;</th><th scope=col>&lt;int&gt;</th><th scope=col>&lt;int&gt;</th></tr>\n",
       "</thead>\n",
       "<tbody>\n",
       "\t<tr><th scope=row>1</th><td>1503960366</td><td>4/12/2016 12:00:00 AM</td><td>1</td><td>327</td><td>346</td></tr>\n",
       "\t<tr><th scope=row>2</th><td>1503960366</td><td>4/13/2016 12:00:00 AM</td><td>2</td><td>384</td><td>407</td></tr>\n",
       "\t<tr><th scope=row>3</th><td>1503960366</td><td>4/15/2016 12:00:00 AM</td><td>1</td><td>412</td><td>442</td></tr>\n",
       "\t<tr><th scope=row>4</th><td>1503960366</td><td>4/16/2016 12:00:00 AM</td><td>2</td><td>340</td><td>367</td></tr>\n",
       "\t<tr><th scope=row>5</th><td>1503960366</td><td>4/17/2016 12:00:00 AM</td><td>1</td><td>700</td><td>712</td></tr>\n",
       "\t<tr><th scope=row>6</th><td>1503960366</td><td>4/19/2016 12:00:00 AM</td><td>1</td><td>304</td><td>320</td></tr>\n",
       "</tbody>\n",
       "</table>\n"
      ],
      "text/latex": [
       "A data.frame: 6 × 5\n",
       "\\begin{tabular}{r|lllll}\n",
       "  & Id & SleepDay & TotalSleepRecords & TotalMinutesAsleep & TotalTimeInBed\\\\\n",
       "  & <dbl> & <chr> & <int> & <int> & <int>\\\\\n",
       "\\hline\n",
       "\t1 & 1503960366 & 4/12/2016 12:00:00 AM & 1 & 327 & 346\\\\\n",
       "\t2 & 1503960366 & 4/13/2016 12:00:00 AM & 2 & 384 & 407\\\\\n",
       "\t3 & 1503960366 & 4/15/2016 12:00:00 AM & 1 & 412 & 442\\\\\n",
       "\t4 & 1503960366 & 4/16/2016 12:00:00 AM & 2 & 340 & 367\\\\\n",
       "\t5 & 1503960366 & 4/17/2016 12:00:00 AM & 1 & 700 & 712\\\\\n",
       "\t6 & 1503960366 & 4/19/2016 12:00:00 AM & 1 & 304 & 320\\\\\n",
       "\\end{tabular}\n"
      ],
      "text/markdown": [
       "\n",
       "A data.frame: 6 × 5\n",
       "\n",
       "| <!--/--> | Id &lt;dbl&gt; | SleepDay &lt;chr&gt; | TotalSleepRecords &lt;int&gt; | TotalMinutesAsleep &lt;int&gt; | TotalTimeInBed &lt;int&gt; |\n",
       "|---|---|---|---|---|---|\n",
       "| 1 | 1503960366 | 4/12/2016 12:00:00 AM | 1 | 327 | 346 |\n",
       "| 2 | 1503960366 | 4/13/2016 12:00:00 AM | 2 | 384 | 407 |\n",
       "| 3 | 1503960366 | 4/15/2016 12:00:00 AM | 1 | 412 | 442 |\n",
       "| 4 | 1503960366 | 4/16/2016 12:00:00 AM | 2 | 340 | 367 |\n",
       "| 5 | 1503960366 | 4/17/2016 12:00:00 AM | 1 | 700 | 712 |\n",
       "| 6 | 1503960366 | 4/19/2016 12:00:00 AM | 1 | 304 | 320 |\n",
       "\n"
      ],
      "text/plain": [
       "  Id         SleepDay              TotalSleepRecords TotalMinutesAsleep\n",
       "1 1503960366 4/12/2016 12:00:00 AM 1                 327               \n",
       "2 1503960366 4/13/2016 12:00:00 AM 2                 384               \n",
       "3 1503960366 4/15/2016 12:00:00 AM 1                 412               \n",
       "4 1503960366 4/16/2016 12:00:00 AM 2                 340               \n",
       "5 1503960366 4/17/2016 12:00:00 AM 1                 700               \n",
       "6 1503960366 4/19/2016 12:00:00 AM 1                 304               \n",
       "  TotalTimeInBed\n",
       "1 346           \n",
       "2 407           \n",
       "3 442           \n",
       "4 367           \n",
       "5 712           \n",
       "6 320           "
      ]
     },
     "metadata": {},
     "output_type": "display_data"
    }
   ],
   "source": [
    "str(daily)\n",
    "head(daily)\n",
    "str(sleep)\n",
    "head(sleep)"
   ]
  },
  {
   "cell_type": "code",
   "execution_count": 4,
   "metadata": {
    "vscode": {
     "languageId": "r"
    }
   },
   "outputs": [
    {
     "name": "stdout",
     "output_type": "stream",
     "text": [
      "'data.frame':\t457 obs. of  15 variables:\n",
      " $ Id                      : num  1.5e+09 1.5e+09 1.5e+09 1.5e+09 1.5e+09 ...\n",
      " $ ActivityDate            : Date, format: \"2020-03-25\" \"2020-03-26\" ...\n",
      " $ TotalSteps              : int  11004 17609 12736 13231 12041 10970 12256 12262 11248 10016 ...\n",
      " $ TotalDistance           : num  7.11 11.55 8.53 8.93 7.85 ...\n",
      " $ TrackerDistance         : num  7.11 11.55 8.53 8.93 7.85 ...\n",
      " $ LoggedActivitiesDistance: num  0 0 0 0 0 0 0 0 0 0 ...\n",
      " $ VeryActiveDistance      : num  2.57 6.92 4.66 3.19 2.16 ...\n",
      " $ ModeratelyActiveDistance: num  0.46 0.73 0.16 0.79 1.09 ...\n",
      " $ LightActiveDistance     : num  4.07 3.91 3.71 4.95 4.61 ...\n",
      " $ SedentaryActiveDistance : num  0 0 0 0 0 0 0 0 0 0 ...\n",
      " $ VeryActiveMinutes       : int  33 89 56 39 28 30 33 47 40 15 ...\n",
      " $ FairlyActiveMinutes     : int  12 17 5 20 28 13 12 21 11 30 ...\n",
      " $ LightlyActiveMinutes    : int  205 274 268 224 243 223 239 200 244 314 ...\n",
      " $ SedentaryMinutes        : int  804 588 605 1080 763 1174 820 866 636 655 ...\n",
      " $ Calories                : int  1819 2154 1944 1932 1886 1820 1889 1868 1843 1850 ...\n"
     ]
    },
    {
     "data": {
      "text/html": [
       "<table class=\"dataframe\">\n",
       "<caption>A data.frame: 6 × 15</caption>\n",
       "<thead>\n",
       "\t<tr><th></th><th scope=col>Id</th><th scope=col>ActivityDate</th><th scope=col>TotalSteps</th><th scope=col>TotalDistance</th><th scope=col>TrackerDistance</th><th scope=col>LoggedActivitiesDistance</th><th scope=col>VeryActiveDistance</th><th scope=col>ModeratelyActiveDistance</th><th scope=col>LightActiveDistance</th><th scope=col>SedentaryActiveDistance</th><th scope=col>VeryActiveMinutes</th><th scope=col>FairlyActiveMinutes</th><th scope=col>LightlyActiveMinutes</th><th scope=col>SedentaryMinutes</th><th scope=col>Calories</th></tr>\n",
       "\t<tr><th></th><th scope=col>&lt;dbl&gt;</th><th scope=col>&lt;date&gt;</th><th scope=col>&lt;int&gt;</th><th scope=col>&lt;dbl&gt;</th><th scope=col>&lt;dbl&gt;</th><th scope=col>&lt;dbl&gt;</th><th scope=col>&lt;dbl&gt;</th><th scope=col>&lt;dbl&gt;</th><th scope=col>&lt;dbl&gt;</th><th scope=col>&lt;dbl&gt;</th><th scope=col>&lt;int&gt;</th><th scope=col>&lt;int&gt;</th><th scope=col>&lt;int&gt;</th><th scope=col>&lt;int&gt;</th><th scope=col>&lt;int&gt;</th></tr>\n",
       "</thead>\n",
       "<tbody>\n",
       "\t<tr><th scope=row>1</th><td>1503960366</td><td>2020-03-25</td><td>11004</td><td> 7.11</td><td> 7.11</td><td>0</td><td>2.57</td><td>0.46</td><td>4.07</td><td>0</td><td>33</td><td>12</td><td>205</td><td> 804</td><td>1819</td></tr>\n",
       "\t<tr><th scope=row>2</th><td>1503960366</td><td>2020-03-26</td><td>17609</td><td>11.55</td><td>11.55</td><td>0</td><td>6.92</td><td>0.73</td><td>3.91</td><td>0</td><td>89</td><td>17</td><td>274</td><td> 588</td><td>2154</td></tr>\n",
       "\t<tr><th scope=row>3</th><td>1503960366</td><td>2020-03-27</td><td>12736</td><td> 8.53</td><td> 8.53</td><td>0</td><td>4.66</td><td>0.16</td><td>3.71</td><td>0</td><td>56</td><td> 5</td><td>268</td><td> 605</td><td>1944</td></tr>\n",
       "\t<tr><th scope=row>4</th><td>1503960366</td><td>2020-03-28</td><td>13231</td><td> 8.93</td><td> 8.93</td><td>0</td><td>3.19</td><td>0.79</td><td>4.95</td><td>0</td><td>39</td><td>20</td><td>224</td><td>1080</td><td>1932</td></tr>\n",
       "\t<tr><th scope=row>5</th><td>1503960366</td><td>2020-03-29</td><td>12041</td><td> 7.85</td><td> 7.85</td><td>0</td><td>2.16</td><td>1.09</td><td>4.61</td><td>0</td><td>28</td><td>28</td><td>243</td><td> 763</td><td>1886</td></tr>\n",
       "\t<tr><th scope=row>6</th><td>1503960366</td><td>2020-03-30</td><td>10970</td><td> 7.16</td><td> 7.16</td><td>0</td><td>2.36</td><td>0.51</td><td>4.29</td><td>0</td><td>30</td><td>13</td><td>223</td><td>1174</td><td>1820</td></tr>\n",
       "</tbody>\n",
       "</table>\n"
      ],
      "text/latex": [
       "A data.frame: 6 × 15\n",
       "\\begin{tabular}{r|lllllllllllllll}\n",
       "  & Id & ActivityDate & TotalSteps & TotalDistance & TrackerDistance & LoggedActivitiesDistance & VeryActiveDistance & ModeratelyActiveDistance & LightActiveDistance & SedentaryActiveDistance & VeryActiveMinutes & FairlyActiveMinutes & LightlyActiveMinutes & SedentaryMinutes & Calories\\\\\n",
       "  & <dbl> & <date> & <int> & <dbl> & <dbl> & <dbl> & <dbl> & <dbl> & <dbl> & <dbl> & <int> & <int> & <int> & <int> & <int>\\\\\n",
       "\\hline\n",
       "\t1 & 1503960366 & 2020-03-25 & 11004 &  7.11 &  7.11 & 0 & 2.57 & 0.46 & 4.07 & 0 & 33 & 12 & 205 &  804 & 1819\\\\\n",
       "\t2 & 1503960366 & 2020-03-26 & 17609 & 11.55 & 11.55 & 0 & 6.92 & 0.73 & 3.91 & 0 & 89 & 17 & 274 &  588 & 2154\\\\\n",
       "\t3 & 1503960366 & 2020-03-27 & 12736 &  8.53 &  8.53 & 0 & 4.66 & 0.16 & 3.71 & 0 & 56 &  5 & 268 &  605 & 1944\\\\\n",
       "\t4 & 1503960366 & 2020-03-28 & 13231 &  8.93 &  8.93 & 0 & 3.19 & 0.79 & 4.95 & 0 & 39 & 20 & 224 & 1080 & 1932\\\\\n",
       "\t5 & 1503960366 & 2020-03-29 & 12041 &  7.85 &  7.85 & 0 & 2.16 & 1.09 & 4.61 & 0 & 28 & 28 & 243 &  763 & 1886\\\\\n",
       "\t6 & 1503960366 & 2020-03-30 & 10970 &  7.16 &  7.16 & 0 & 2.36 & 0.51 & 4.29 & 0 & 30 & 13 & 223 & 1174 & 1820\\\\\n",
       "\\end{tabular}\n"
      ],
      "text/markdown": [
       "\n",
       "A data.frame: 6 × 15\n",
       "\n",
       "| <!--/--> | Id &lt;dbl&gt; | ActivityDate &lt;date&gt; | TotalSteps &lt;int&gt; | TotalDistance &lt;dbl&gt; | TrackerDistance &lt;dbl&gt; | LoggedActivitiesDistance &lt;dbl&gt; | VeryActiveDistance &lt;dbl&gt; | ModeratelyActiveDistance &lt;dbl&gt; | LightActiveDistance &lt;dbl&gt; | SedentaryActiveDistance &lt;dbl&gt; | VeryActiveMinutes &lt;int&gt; | FairlyActiveMinutes &lt;int&gt; | LightlyActiveMinutes &lt;int&gt; | SedentaryMinutes &lt;int&gt; | Calories &lt;int&gt; |\n",
       "|---|---|---|---|---|---|---|---|---|---|---|---|---|---|---|---|\n",
       "| 1 | 1503960366 | 2020-03-25 | 11004 |  7.11 |  7.11 | 0 | 2.57 | 0.46 | 4.07 | 0 | 33 | 12 | 205 |  804 | 1819 |\n",
       "| 2 | 1503960366 | 2020-03-26 | 17609 | 11.55 | 11.55 | 0 | 6.92 | 0.73 | 3.91 | 0 | 89 | 17 | 274 |  588 | 2154 |\n",
       "| 3 | 1503960366 | 2020-03-27 | 12736 |  8.53 |  8.53 | 0 | 4.66 | 0.16 | 3.71 | 0 | 56 |  5 | 268 |  605 | 1944 |\n",
       "| 4 | 1503960366 | 2020-03-28 | 13231 |  8.93 |  8.93 | 0 | 3.19 | 0.79 | 4.95 | 0 | 39 | 20 | 224 | 1080 | 1932 |\n",
       "| 5 | 1503960366 | 2020-03-29 | 12041 |  7.85 |  7.85 | 0 | 2.16 | 1.09 | 4.61 | 0 | 28 | 28 | 243 |  763 | 1886 |\n",
       "| 6 | 1503960366 | 2020-03-30 | 10970 |  7.16 |  7.16 | 0 | 2.36 | 0.51 | 4.29 | 0 | 30 | 13 | 223 | 1174 | 1820 |\n",
       "\n"
      ],
      "text/plain": [
       "  Id         ActivityDate TotalSteps TotalDistance TrackerDistance\n",
       "1 1503960366 2020-03-25   11004       7.11          7.11          \n",
       "2 1503960366 2020-03-26   17609      11.55         11.55          \n",
       "3 1503960366 2020-03-27   12736       8.53          8.53          \n",
       "4 1503960366 2020-03-28   13231       8.93          8.93          \n",
       "5 1503960366 2020-03-29   12041       7.85          7.85          \n",
       "6 1503960366 2020-03-30   10970       7.16          7.16          \n",
       "  LoggedActivitiesDistance VeryActiveDistance ModeratelyActiveDistance\n",
       "1 0                        2.57               0.46                    \n",
       "2 0                        6.92               0.73                    \n",
       "3 0                        4.66               0.16                    \n",
       "4 0                        3.19               0.79                    \n",
       "5 0                        2.16               1.09                    \n",
       "6 0                        2.36               0.51                    \n",
       "  LightActiveDistance SedentaryActiveDistance VeryActiveMinutes\n",
       "1 4.07                0                       33               \n",
       "2 3.91                0                       89               \n",
       "3 3.71                0                       56               \n",
       "4 4.95                0                       39               \n",
       "5 4.61                0                       28               \n",
       "6 4.29                0                       30               \n",
       "  FairlyActiveMinutes LightlyActiveMinutes SedentaryMinutes Calories\n",
       "1 12                  205                   804             1819    \n",
       "2 17                  274                   588             2154    \n",
       "3  5                  268                   605             1944    \n",
       "4 20                  224                  1080             1932    \n",
       "5 28                  243                   763             1886    \n",
       "6 13                  223                  1174             1820    "
      ]
     },
     "metadata": {},
     "output_type": "display_data"
    }
   ],
   "source": [
    "daily$ActivityDate<- as.Date(daily$ActivityDate, format = \"%m/%d/%y\")\n",
    "str(daily)\n",
    "head(daily)"
   ]
  },
  {
   "cell_type": "code",
   "execution_count": 5,
   "metadata": {
    "vscode": {
     "languageId": "r"
    }
   },
   "outputs": [
    {
     "name": "stdout",
     "output_type": "stream",
     "text": [
      "'data.frame':\t413 obs. of  5 variables:\n",
      " $ Id                : num  1.5e+09 1.5e+09 1.5e+09 1.5e+09 1.5e+09 ...\n",
      " $ SleepDay          : Date, format: \"2020-04-12\" \"2020-04-13\" ...\n",
      " $ TotalSleepRecords : int  1 2 1 2 1 1 1 1 1 1 ...\n",
      " $ TotalMinutesAsleep: int  327 384 412 340 700 304 360 325 361 430 ...\n",
      " $ TotalTimeInBed    : int  346 407 442 367 712 320 377 364 384 449 ...\n"
     ]
    },
    {
     "data": {
      "text/html": [
       "<table class=\"dataframe\">\n",
       "<caption>A data.frame: 6 × 5</caption>\n",
       "<thead>\n",
       "\t<tr><th></th><th scope=col>Id</th><th scope=col>SleepDay</th><th scope=col>TotalSleepRecords</th><th scope=col>TotalMinutesAsleep</th><th scope=col>TotalTimeInBed</th></tr>\n",
       "\t<tr><th></th><th scope=col>&lt;dbl&gt;</th><th scope=col>&lt;date&gt;</th><th scope=col>&lt;int&gt;</th><th scope=col>&lt;int&gt;</th><th scope=col>&lt;int&gt;</th></tr>\n",
       "</thead>\n",
       "<tbody>\n",
       "\t<tr><th scope=row>1</th><td>1503960366</td><td>2020-04-12</td><td>1</td><td>327</td><td>346</td></tr>\n",
       "\t<tr><th scope=row>2</th><td>1503960366</td><td>2020-04-13</td><td>2</td><td>384</td><td>407</td></tr>\n",
       "\t<tr><th scope=row>3</th><td>1503960366</td><td>2020-04-15</td><td>1</td><td>412</td><td>442</td></tr>\n",
       "\t<tr><th scope=row>4</th><td>1503960366</td><td>2020-04-16</td><td>2</td><td>340</td><td>367</td></tr>\n",
       "\t<tr><th scope=row>5</th><td>1503960366</td><td>2020-04-17</td><td>1</td><td>700</td><td>712</td></tr>\n",
       "\t<tr><th scope=row>6</th><td>1503960366</td><td>2020-04-19</td><td>1</td><td>304</td><td>320</td></tr>\n",
       "</tbody>\n",
       "</table>\n"
      ],
      "text/latex": [
       "A data.frame: 6 × 5\n",
       "\\begin{tabular}{r|lllll}\n",
       "  & Id & SleepDay & TotalSleepRecords & TotalMinutesAsleep & TotalTimeInBed\\\\\n",
       "  & <dbl> & <date> & <int> & <int> & <int>\\\\\n",
       "\\hline\n",
       "\t1 & 1503960366 & 2020-04-12 & 1 & 327 & 346\\\\\n",
       "\t2 & 1503960366 & 2020-04-13 & 2 & 384 & 407\\\\\n",
       "\t3 & 1503960366 & 2020-04-15 & 1 & 412 & 442\\\\\n",
       "\t4 & 1503960366 & 2020-04-16 & 2 & 340 & 367\\\\\n",
       "\t5 & 1503960366 & 2020-04-17 & 1 & 700 & 712\\\\\n",
       "\t6 & 1503960366 & 2020-04-19 & 1 & 304 & 320\\\\\n",
       "\\end{tabular}\n"
      ],
      "text/markdown": [
       "\n",
       "A data.frame: 6 × 5\n",
       "\n",
       "| <!--/--> | Id &lt;dbl&gt; | SleepDay &lt;date&gt; | TotalSleepRecords &lt;int&gt; | TotalMinutesAsleep &lt;int&gt; | TotalTimeInBed &lt;int&gt; |\n",
       "|---|---|---|---|---|---|\n",
       "| 1 | 1503960366 | 2020-04-12 | 1 | 327 | 346 |\n",
       "| 2 | 1503960366 | 2020-04-13 | 2 | 384 | 407 |\n",
       "| 3 | 1503960366 | 2020-04-15 | 1 | 412 | 442 |\n",
       "| 4 | 1503960366 | 2020-04-16 | 2 | 340 | 367 |\n",
       "| 5 | 1503960366 | 2020-04-17 | 1 | 700 | 712 |\n",
       "| 6 | 1503960366 | 2020-04-19 | 1 | 304 | 320 |\n",
       "\n"
      ],
      "text/plain": [
       "  Id         SleepDay   TotalSleepRecords TotalMinutesAsleep TotalTimeInBed\n",
       "1 1503960366 2020-04-12 1                 327                346           \n",
       "2 1503960366 2020-04-13 2                 384                407           \n",
       "3 1503960366 2020-04-15 1                 412                442           \n",
       "4 1503960366 2020-04-16 2                 340                367           \n",
       "5 1503960366 2020-04-17 1                 700                712           \n",
       "6 1503960366 2020-04-19 1                 304                320           "
      ]
     },
     "metadata": {},
     "output_type": "display_data"
    }
   ],
   "source": [
    "sleep$SleepDay<- as.Date(sleep$SleepDay,format = \"%m/%d/%y\")\n",
    "str(sleep)\n",
    "head(sleep)"
   ]
  },
  {
   "cell_type": "code",
   "execution_count": 6,
   "metadata": {
    "vscode": {
     "languageId": "r"
    }
   },
   "outputs": [
    {
     "name": "stdout",
     "output_type": "stream",
     "text": [
      "'data.frame':\t457 obs. of  15 variables:\n",
      " $ Id                      : num  1.5e+09 1.5e+09 1.5e+09 1.5e+09 1.5e+09 ...\n",
      " $ ActivityDate            : Date, format: \"2020-03-25\" \"2020-03-26\" ...\n",
      " $ TotalSteps              : int  11004 17609 12736 13231 12041 10970 12256 12262 11248 10016 ...\n",
      " $ TotalDistance           : num  7.11 11.55 8.53 8.93 7.85 ...\n",
      " $ TrackerDistance         : num  7.11 11.55 8.53 8.93 7.85 ...\n",
      " $ LoggedActivitiesDistance: num  0 0 0 0 0 0 0 0 0 0 ...\n",
      " $ VeryActiveDistance      : num  2.57 6.92 4.66 3.19 2.16 ...\n",
      " $ ModeratelyActiveDistance: num  0.46 0.73 0.16 0.79 1.09 ...\n",
      " $ LightActiveDistance     : num  4.07 3.91 3.71 4.95 4.61 ...\n",
      " $ SedentaryActiveDistance : num  0 0 0 0 0 0 0 0 0 0 ...\n",
      " $ VeryActiveMinutes       : int  33 89 56 39 28 30 33 47 40 15 ...\n",
      " $ FairlyActiveMinutes     : int  12 17 5 20 28 13 12 21 11 30 ...\n",
      " $ LightlyActiveMinutes    : int  205 274 268 224 243 223 239 200 244 314 ...\n",
      " $ SedentaryMinutes        : int  804 588 605 1080 763 1174 820 866 636 655 ...\n",
      " $ Calories                : int  1819 2154 1944 1932 1886 1820 1889 1868 1843 1850 ...\n"
     ]
    }
   ],
   "source": [
    "daily_v2<-na.omit(daily)\n",
    "str(daily_v2)"
   ]
  },
  {
   "cell_type": "code",
   "execution_count": 7,
   "metadata": {
    "vscode": {
     "languageId": "r"
    }
   },
   "outputs": [
    {
     "name": "stdout",
     "output_type": "stream",
     "text": [
      "'data.frame':\t413 obs. of  5 variables:\n",
      " $ Id                : num  1.5e+09 1.5e+09 1.5e+09 1.5e+09 1.5e+09 ...\n",
      " $ SleepDay          : Date, format: \"2020-04-12\" \"2020-04-13\" ...\n",
      " $ TotalSleepRecords : int  1 2 1 2 1 1 1 1 1 1 ...\n",
      " $ TotalMinutesAsleep: int  327 384 412 340 700 304 360 325 361 430 ...\n",
      " $ TotalTimeInBed    : int  346 407 442 367 712 320 377 364 384 449 ...\n"
     ]
    }
   ],
   "source": [
    "sleep_v2<-na.omit(sleep)\n",
    "str(sleep)"
   ]
  },
  {
   "cell_type": "code",
   "execution_count": 8,
   "metadata": {
    "vscode": {
     "languageId": "r"
    }
   },
   "outputs": [
    {
     "name": "stdout",
     "output_type": "stream",
     "text": [
      "'data.frame':\t12 obs. of  18 variables:\n",
      " $ Id                      : num  1.50e+09 1.93e+09 2.03e+09 3.98e+09 4.02e+09 ...\n",
      " $ SleepDay                : Date, format: \"2020-04-12\" \"2020-04-12\" ...\n",
      " $ TotalSleepRecords       : int  1 3 1 1 1 2 1 1 1 1 ...\n",
      " $ TotalMinutesAsleep      : int  327 750 503 274 501 429 425 441 366 514 ...\n",
      " $ TotalTimeInBed          : int  346 775 546 469 541 457 439 464 387 525 ...\n",
      " $ TotalSteps              : int  224 24 1019 759 8 278 0 3436 5893 430 ...\n",
      " $ TotalDistance           : num  0.14 0.02 0.63 0.57 0.01 ...\n",
      " $ TrackerDistance         : num  0.14 0.02 0.63 0.57 0.01 ...\n",
      " $ LoggedActivitiesDistance: num  0 0 0 0 0 0 0 0 0 0 ...\n",
      " $ VeryActiveDistance      : num  0 0 0 0 0 ...\n",
      " $ ModeratelyActiveDistance: num  0 0 0 0 0 ...\n",
      " $ LightActiveDistance     : num  0.13 0.02 0.63 0.57 0.01 ...\n",
      " $ SedentaryActiveDistance : num  0 0 0 0 0 0 0 0 0 0 ...\n",
      " $ VeryActiveMinutes       : int  0 0 0 0 0 0 0 7 43 0 ...\n",
      " $ FairlyActiveMinutes     : int  0 0 0 0 0 0 0 11 9 0 ...\n",
      " $ LightlyActiveMinutes    : int  9 3 64 17 1 20 0 50 48 14 ...\n",
      " $ SedentaryMinutes        : int  32 161 223 187 321 253 1440 61 146 75 ...\n",
      " $ Calories                : int  50 942 600 182 446 745 0 633 917 625 ...\n"
     ]
    },
    {
     "data": {
      "text/html": [
       "<table class=\"dataframe\">\n",
       "<caption>A data.frame: 6 × 18</caption>\n",
       "<thead>\n",
       "\t<tr><th></th><th scope=col>Id</th><th scope=col>SleepDay</th><th scope=col>TotalSleepRecords</th><th scope=col>TotalMinutesAsleep</th><th scope=col>TotalTimeInBed</th><th scope=col>TotalSteps</th><th scope=col>TotalDistance</th><th scope=col>TrackerDistance</th><th scope=col>LoggedActivitiesDistance</th><th scope=col>VeryActiveDistance</th><th scope=col>ModeratelyActiveDistance</th><th scope=col>LightActiveDistance</th><th scope=col>SedentaryActiveDistance</th><th scope=col>VeryActiveMinutes</th><th scope=col>FairlyActiveMinutes</th><th scope=col>LightlyActiveMinutes</th><th scope=col>SedentaryMinutes</th><th scope=col>Calories</th></tr>\n",
       "\t<tr><th></th><th scope=col>&lt;dbl&gt;</th><th scope=col>&lt;date&gt;</th><th scope=col>&lt;int&gt;</th><th scope=col>&lt;int&gt;</th><th scope=col>&lt;int&gt;</th><th scope=col>&lt;int&gt;</th><th scope=col>&lt;dbl&gt;</th><th scope=col>&lt;dbl&gt;</th><th scope=col>&lt;dbl&gt;</th><th scope=col>&lt;dbl&gt;</th><th scope=col>&lt;dbl&gt;</th><th scope=col>&lt;dbl&gt;</th><th scope=col>&lt;dbl&gt;</th><th scope=col>&lt;int&gt;</th><th scope=col>&lt;int&gt;</th><th scope=col>&lt;int&gt;</th><th scope=col>&lt;int&gt;</th><th scope=col>&lt;int&gt;</th></tr>\n",
       "</thead>\n",
       "<tbody>\n",
       "\t<tr><th scope=row>1</th><td>1503960366</td><td>2020-04-12</td><td>1</td><td>327</td><td>346</td><td> 224</td><td>0.14</td><td>0.14</td><td>0</td><td>0</td><td>0</td><td>0.13</td><td>0</td><td>0</td><td>0</td><td> 9</td><td> 32</td><td> 50</td></tr>\n",
       "\t<tr><th scope=row>2</th><td>1927972279</td><td>2020-04-12</td><td>3</td><td>750</td><td>775</td><td>  24</td><td>0.02</td><td>0.02</td><td>0</td><td>0</td><td>0</td><td>0.02</td><td>0</td><td>0</td><td>0</td><td> 3</td><td>161</td><td>942</td></tr>\n",
       "\t<tr><th scope=row>3</th><td>2026352035</td><td>2020-04-12</td><td>1</td><td>503</td><td>546</td><td>1019</td><td>0.63</td><td>0.63</td><td>0</td><td>0</td><td>0</td><td>0.63</td><td>0</td><td>0</td><td>0</td><td>64</td><td>223</td><td>600</td></tr>\n",
       "\t<tr><th scope=row>4</th><td>3977333714</td><td>2020-04-12</td><td>1</td><td>274</td><td>469</td><td> 759</td><td>0.57</td><td>0.57</td><td>0</td><td>0</td><td>0</td><td>0.57</td><td>0</td><td>0</td><td>0</td><td>17</td><td>187</td><td>182</td></tr>\n",
       "\t<tr><th scope=row>5</th><td>4020332650</td><td>2020-04-12</td><td>1</td><td>501</td><td>541</td><td>   8</td><td>0.01</td><td>0.01</td><td>0</td><td>0</td><td>0</td><td>0.01</td><td>0</td><td>0</td><td>0</td><td> 1</td><td>321</td><td>446</td></tr>\n",
       "\t<tr><th scope=row>6</th><td>4445114986</td><td>2020-04-12</td><td>2</td><td>429</td><td>457</td><td> 278</td><td>0.19</td><td>0.19</td><td>0</td><td>0</td><td>0</td><td>0.19</td><td>0</td><td>0</td><td>0</td><td>20</td><td>253</td><td>745</td></tr>\n",
       "</tbody>\n",
       "</table>\n"
      ],
      "text/latex": [
       "A data.frame: 6 × 18\n",
       "\\begin{tabular}{r|llllllllllllllllll}\n",
       "  & Id & SleepDay & TotalSleepRecords & TotalMinutesAsleep & TotalTimeInBed & TotalSteps & TotalDistance & TrackerDistance & LoggedActivitiesDistance & VeryActiveDistance & ModeratelyActiveDistance & LightActiveDistance & SedentaryActiveDistance & VeryActiveMinutes & FairlyActiveMinutes & LightlyActiveMinutes & SedentaryMinutes & Calories\\\\\n",
       "  & <dbl> & <date> & <int> & <int> & <int> & <int> & <dbl> & <dbl> & <dbl> & <dbl> & <dbl> & <dbl> & <dbl> & <int> & <int> & <int> & <int> & <int>\\\\\n",
       "\\hline\n",
       "\t1 & 1503960366 & 2020-04-12 & 1 & 327 & 346 &  224 & 0.14 & 0.14 & 0 & 0 & 0 & 0.13 & 0 & 0 & 0 &  9 &  32 &  50\\\\\n",
       "\t2 & 1927972279 & 2020-04-12 & 3 & 750 & 775 &   24 & 0.02 & 0.02 & 0 & 0 & 0 & 0.02 & 0 & 0 & 0 &  3 & 161 & 942\\\\\n",
       "\t3 & 2026352035 & 2020-04-12 & 1 & 503 & 546 & 1019 & 0.63 & 0.63 & 0 & 0 & 0 & 0.63 & 0 & 0 & 0 & 64 & 223 & 600\\\\\n",
       "\t4 & 3977333714 & 2020-04-12 & 1 & 274 & 469 &  759 & 0.57 & 0.57 & 0 & 0 & 0 & 0.57 & 0 & 0 & 0 & 17 & 187 & 182\\\\\n",
       "\t5 & 4020332650 & 2020-04-12 & 1 & 501 & 541 &    8 & 0.01 & 0.01 & 0 & 0 & 0 & 0.01 & 0 & 0 & 0 &  1 & 321 & 446\\\\\n",
       "\t6 & 4445114986 & 2020-04-12 & 2 & 429 & 457 &  278 & 0.19 & 0.19 & 0 & 0 & 0 & 0.19 & 0 & 0 & 0 & 20 & 253 & 745\\\\\n",
       "\\end{tabular}\n"
      ],
      "text/markdown": [
       "\n",
       "A data.frame: 6 × 18\n",
       "\n",
       "| <!--/--> | Id &lt;dbl&gt; | SleepDay &lt;date&gt; | TotalSleepRecords &lt;int&gt; | TotalMinutesAsleep &lt;int&gt; | TotalTimeInBed &lt;int&gt; | TotalSteps &lt;int&gt; | TotalDistance &lt;dbl&gt; | TrackerDistance &lt;dbl&gt; | LoggedActivitiesDistance &lt;dbl&gt; | VeryActiveDistance &lt;dbl&gt; | ModeratelyActiveDistance &lt;dbl&gt; | LightActiveDistance &lt;dbl&gt; | SedentaryActiveDistance &lt;dbl&gt; | VeryActiveMinutes &lt;int&gt; | FairlyActiveMinutes &lt;int&gt; | LightlyActiveMinutes &lt;int&gt; | SedentaryMinutes &lt;int&gt; | Calories &lt;int&gt; |\n",
       "|---|---|---|---|---|---|---|---|---|---|---|---|---|---|---|---|---|---|---|\n",
       "| 1 | 1503960366 | 2020-04-12 | 1 | 327 | 346 |  224 | 0.14 | 0.14 | 0 | 0 | 0 | 0.13 | 0 | 0 | 0 |  9 |  32 |  50 |\n",
       "| 2 | 1927972279 | 2020-04-12 | 3 | 750 | 775 |   24 | 0.02 | 0.02 | 0 | 0 | 0 | 0.02 | 0 | 0 | 0 |  3 | 161 | 942 |\n",
       "| 3 | 2026352035 | 2020-04-12 | 1 | 503 | 546 | 1019 | 0.63 | 0.63 | 0 | 0 | 0 | 0.63 | 0 | 0 | 0 | 64 | 223 | 600 |\n",
       "| 4 | 3977333714 | 2020-04-12 | 1 | 274 | 469 |  759 | 0.57 | 0.57 | 0 | 0 | 0 | 0.57 | 0 | 0 | 0 | 17 | 187 | 182 |\n",
       "| 5 | 4020332650 | 2020-04-12 | 1 | 501 | 541 |    8 | 0.01 | 0.01 | 0 | 0 | 0 | 0.01 | 0 | 0 | 0 |  1 | 321 | 446 |\n",
       "| 6 | 4445114986 | 2020-04-12 | 2 | 429 | 457 |  278 | 0.19 | 0.19 | 0 | 0 | 0 | 0.19 | 0 | 0 | 0 | 20 | 253 | 745 |\n",
       "\n"
      ],
      "text/plain": [
       "  Id         SleepDay   TotalSleepRecords TotalMinutesAsleep TotalTimeInBed\n",
       "1 1503960366 2020-04-12 1                 327                346           \n",
       "2 1927972279 2020-04-12 3                 750                775           \n",
       "3 2026352035 2020-04-12 1                 503                546           \n",
       "4 3977333714 2020-04-12 1                 274                469           \n",
       "5 4020332650 2020-04-12 1                 501                541           \n",
       "6 4445114986 2020-04-12 2                 429                457           \n",
       "  TotalSteps TotalDistance TrackerDistance LoggedActivitiesDistance\n",
       "1  224       0.14          0.14            0                       \n",
       "2   24       0.02          0.02            0                       \n",
       "3 1019       0.63          0.63            0                       \n",
       "4  759       0.57          0.57            0                       \n",
       "5    8       0.01          0.01            0                       \n",
       "6  278       0.19          0.19            0                       \n",
       "  VeryActiveDistance ModeratelyActiveDistance LightActiveDistance\n",
       "1 0                  0                        0.13               \n",
       "2 0                  0                        0.02               \n",
       "3 0                  0                        0.63               \n",
       "4 0                  0                        0.57               \n",
       "5 0                  0                        0.01               \n",
       "6 0                  0                        0.19               \n",
       "  SedentaryActiveDistance VeryActiveMinutes FairlyActiveMinutes\n",
       "1 0                       0                 0                  \n",
       "2 0                       0                 0                  \n",
       "3 0                       0                 0                  \n",
       "4 0                       0                 0                  \n",
       "5 0                       0                 0                  \n",
       "6 0                       0                 0                  \n",
       "  LightlyActiveMinutes SedentaryMinutes Calories\n",
       "1  9                    32               50     \n",
       "2  3                   161              942     \n",
       "3 64                   223              600     \n",
       "4 17                   187              182     \n",
       "5  1                   321              446     \n",
       "6 20                   253              745     "
      ]
     },
     "metadata": {},
     "output_type": "display_data"
    }
   ],
   "source": [
    "sleep_v3<- merge(sleep_v2, daily_v2, by.x = c(\"Id\",\"SleepDay\"), by.y = c(\"Id\",\"ActivityDate\"))\n",
    "str(sleep_v3)\n",
    "head(sleep_v3)"
   ]
  },
  {
   "cell_type": "code",
   "execution_count": 9,
   "metadata": {
    "vscode": {
     "languageId": "r"
    }
   },
   "outputs": [
    {
     "name": "stdout",
     "output_type": "stream",
     "text": [
      "'data.frame':\t12 obs. of  18 variables:\n",
      " $ Id                      : num  1.50e+09 1.93e+09 2.03e+09 3.98e+09 4.02e+09 ...\n",
      " $ SleepDay                : Date, format: \"2020-04-12\" \"2020-04-12\" ...\n",
      " $ TotalSleepRecords       : int  1 3 1 1 1 2 1 1 1 1 ...\n",
      " $ TotalMinutesAsleep      : int  327 750 503 274 501 429 425 441 366 514 ...\n",
      " $ TotalTimeInBed          : int  346 775 546 469 541 457 439 464 387 525 ...\n",
      " $ TotalSteps              : int  224 24 1019 759 8 278 0 3436 5893 430 ...\n",
      " $ TotalDistance           : num  0.14 0.02 0.63 0.57 0.01 ...\n",
      " $ TrackerDistance         : num  0.14 0.02 0.63 0.57 0.01 ...\n",
      " $ LoggedActivitiesDistance: num  0 0 0 0 0 0 0 0 0 0 ...\n",
      " $ VeryActiveDistance      : num  0 0 0 0 0 ...\n",
      " $ ModeratelyActiveDistance: num  0 0 0 0 0 ...\n",
      " $ LightActiveDistance     : num  0.13 0.02 0.63 0.57 0.01 ...\n",
      " $ SedentaryActiveDistance : num  0 0 0 0 0 0 0 0 0 0 ...\n",
      " $ VeryActiveMinutes       : int  0 0 0 0 0 0 0 7 43 0 ...\n",
      " $ FairlyActiveMinutes     : int  0 0 0 0 0 0 0 11 9 0 ...\n",
      " $ LightlyActiveMinutes    : int  9 3 64 17 1 20 0 50 48 14 ...\n",
      " $ SedentaryMinutes        : int  32 161 223 187 321 253 1440 61 146 75 ...\n",
      " $ Calories                : int  50 942 600 182 446 745 0 633 917 625 ...\n"
     ]
    }
   ],
   "source": [
    "sleep_v4<-na.omit(sleep_v3)\n",
    "str(sleep_v4)"
   ]
  },
  {
   "cell_type": "markdown",
   "metadata": {},
   "source": [
    "# Analysis\n",
    "Average daily total steps and calories burnt\n"
   ]
  },
  {
   "cell_type": "code",
   "execution_count": 11,
   "metadata": {
    "vscode": {
     "languageId": "r"
    }
   },
   "outputs": [
    {
     "data": {
      "text/html": [
       "<table class=\"dataframe\">\n",
       "<caption>A data.frame: 1 × 2</caption>\n",
       "<thead>\n",
       "\t<tr><th scope=col>average_total_steps</th><th scope=col>average_calories_burnt</th></tr>\n",
       "\t<tr><th scope=col>&lt;dbl&gt;</th><th scope=col>&lt;dbl&gt;</th></tr>\n",
       "</thead>\n",
       "<tbody>\n",
       "\t<tr><td>6546.562</td><td>2189.453</td></tr>\n",
       "</tbody>\n",
       "</table>\n"
      ],
      "text/latex": [
       "A data.frame: 1 × 2\n",
       "\\begin{tabular}{ll}\n",
       " average\\_total\\_steps & average\\_calories\\_burnt\\\\\n",
       " <dbl> & <dbl>\\\\\n",
       "\\hline\n",
       "\t 6546.562 & 2189.453\\\\\n",
       "\\end{tabular}\n"
      ],
      "text/markdown": [
       "\n",
       "A data.frame: 1 × 2\n",
       "\n",
       "| average_total_steps &lt;dbl&gt; | average_calories_burnt &lt;dbl&gt; |\n",
       "|---|---|\n",
       "| 6546.562 | 2189.453 |\n",
       "\n"
      ],
      "text/plain": [
       "  average_total_steps average_calories_burnt\n",
       "1 6546.562            2189.453              "
      ]
     },
     "metadata": {},
     "output_type": "display_data"
    }
   ],
   "source": [
    "# calculating average TotalSteps and Calories\n",
    "daily_v2 %>%\n",
    "  summarise(average_total_steps = mean(TotalSteps),\n",
    "            average_calories_burnt = mean(Calories))"
   ]
  },
  {
   "cell_type": "code",
   "execution_count": 17,
   "metadata": {
    "vscode": {
     "languageId": "r"
    }
   },
   "outputs": [
    {
     "name": "stderr",
     "output_type": "stream",
     "text": [
      "\u001b[1m\u001b[22m`geom_smooth()` using formula = 'y ~ x'\n"
     ]
    },
    {
     "data": {
      "image/png": "[encoded data removed]",
      "text/plain": [
       "plot without title"
      ]
     },
     "metadata": {
      "image/png": {
       "height": 420,
       "width": 420
      }
     },
     "output_type": "display_data"
    }
   ],
   "source": [
    "correlation_coefficient_TS <- cor(daily_v2$TotalSteps, daily_v2$Calories)\n",
    "\n",
    "daily_v2 %>%\n",
    "  ggplot(aes(TotalSteps, Calories)) +\n",
    "  geom_point(aes(alpha = 0.25), colour = \"blue\") +\n",
    "  geom_smooth(method = \"lm\", se = FALSE, colour = \"red\") +\n",
    "  labs(title = \"Correlation analysis: Steps taken vs Calories burnt\",\n",
    "       x = \"Steps taken\", y = \"Calories burnt\") +\n",
    "  theme_minimal() +\n",
    "  scale_alpha(guide = \"none\") +\n",
    "  # Add correlation and p-value annotations\n",
    "  stat_poly_eq(formula = y ~ x, \n",
    "               aes(label = paste(\"R == \", round(correlation_coefficient_TS, 2), \n",
    "                                 \"~~~ p-value == \", after_stat(p.value))), \n",
    "               parse = TRUE)\n"
   ]
  }
 ],
 "metadata": {
  "kernelspec": {
   "display_name": "R",
   "language": "R",
   "name": "ir"
  },
  "language_info": {
   "codemirror_mode": "r",
   "file_extension": ".r",
   "mimetype": "text/x-r-source",
   "name": "R",
   "pygments_lexer": "r",
   "version": "4.4.1"
  }
 },
 "nbformat": 4,
 "nbformat_minor": 2
}
